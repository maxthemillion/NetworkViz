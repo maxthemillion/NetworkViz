{
 "cells": [
  {
   "cell_type": "markdown",
   "metadata": {
    "Collapsed": "false"
   },
   "source": [
    "# Data Manipulation to Make viz work"
   ]
  },
  {
   "cell_type": "code",
   "execution_count": 1,
   "metadata": {
    "Collapsed": "false"
   },
   "outputs": [],
   "source": [
    "import pandas as pd\n",
    "import altair as alt\n",
    "import json\n",
    "import os"
   ]
  },
  {
   "cell_type": "markdown",
   "metadata": {
    "Collapsed": "false"
   },
   "source": [
    "## exploration"
   ]
  },
  {
   "cell_type": "code",
   "execution_count": 2,
   "metadata": {
    "Collapsed": "false"
   },
   "outputs": [],
   "source": [
    "files = ['viz_BobPalmer.json',\n",
    "       'viz_gatsbyjs.json', \n",
    "       'viz_getnikola.json',\n",
    "       'viz_novus.json',\n",
    "       'viz_OneDrive.json',\n",
    "       'viz_rathena.json',\n",
    "       'viz_Tribler.json',\n",
    "       'viz_waffleio.json'\n",
    "      ]"
   ]
  },
  {
   "cell_type": "code",
   "execution_count": 3,
   "metadata": {
    "Collapsed": "false"
   },
   "outputs": [],
   "source": [
    "def regroupModularity(data, key='modularity'):\n",
    "    d = pd.DataFrame.from_dict(data[key], orient='index')\n",
    "    \n",
    "    d.index = pd.to_datetime(d.index)\n",
    "    d = d.sort_index().reset_index()\n",
    "    d = d.groupby(pd.Grouper(key='index', freq='W-MON')).sum()\n",
    "    \n",
    "    d.index = d.index.strftime('%Y-%m-%d')\n",
    "    \n",
    "    d.columns = [key]\n",
    "    return d"
   ]
  },
  {
   "cell_type": "code",
   "execution_count": 252,
   "metadata": {
    "Collapsed": "false"
   },
   "outputs": [],
   "source": [
    "def regroupLinkCount(data, key='links'):\n",
    "    d = pd.DataFrame.from_dict(data[key], orient='columns')\n",
    "    \n",
    "    d.timestamp = pd.to_datetime(d.timestamp)\n",
    "    d_grouped = d.groupby([pd.Grouper(key='timestamp', freq='W-MON')]).count()\n",
    "    d_grouped = d_grouped.iloc[:,1]\n",
    "    \n",
    "    d_grouped.index = d_grouped.index.strftime('%Y-%m-%d')\n",
    "    \n",
    "    return d_grouped"
   ]
  },
  {
   "cell_type": "code",
   "execution_count": 255,
   "metadata": {
    "Collapsed": "false"
   },
   "outputs": [],
   "source": [
    "def fixData(files):\n",
    "    for file in files:\n",
    "        with open(os.path.join('..', file)) as f:\n",
    "            data = json.load(f)\n",
    "            \n",
    "        modularity = regroupModularity(data)        \n",
    "        data['modularity'] = modularity.to_dict()['modularity']\n",
    "        \n",
    "        data['no_links'] = regroupLinkCount(data).to_dict()\n",
    "        \n",
    "        with open(os.path.join('.', file), 'w') as f:\n",
    "            json.dump(data, f)"
   ]
  },
  {
   "cell_type": "code",
   "execution_count": 257,
   "metadata": {
    "Collapsed": "false"
   },
   "outputs": [],
   "source": [
    "fixData(files)"
   ]
  },
  {
   "cell_type": "markdown",
   "metadata": {
    "Collapsed": "false"
   },
   "source": [
    "## some plots"
   ]
  },
  {
   "cell_type": "code",
   "execution_count": 218,
   "metadata": {
    "Collapsed": "false"
   },
   "outputs": [],
   "source": [
    "file = 'viz_Tribler.json'\n",
    "with open(os.path.join('.', file)) as f:\n",
    "    data = json.load(f)"
   ]
  },
  {
   "cell_type": "markdown",
   "metadata": {
    "Collapsed": "false"
   },
   "source": [
    "### modularity"
   ]
  },
  {
   "cell_type": "code",
   "execution_count": 219,
   "metadata": {
    "Collapsed": "false"
   },
   "outputs": [],
   "source": [
    "modularity = pd.DataFrame.from_dict(data['modularity'], orient='index')\n",
    "modularity.columns = ['modularity']"
   ]
  },
  {
   "cell_type": "code",
   "execution_count": 220,
   "metadata": {
    "Collapsed": "false"
   },
   "outputs": [],
   "source": [
    "modChart = alt.Chart(modularity.reset_index()).mark_line().encode(\n",
    "    alt.Y(shorthand='modularity:Q'),\n",
    "    alt.X(shorthand='index:T')\n",
    ")"
   ]
  },
  {
   "cell_type": "markdown",
   "metadata": {
    "Collapsed": "false"
   },
   "source": [
    "### Links"
   ]
  },
  {
   "cell_type": "code",
   "execution_count": 221,
   "metadata": {
    "Collapsed": "false"
   },
   "outputs": [],
   "source": [
    "links = pd.DataFrame.from_dict(data['links'], orient='columns')"
   ]
  },
  {
   "cell_type": "code",
   "execution_count": 222,
   "metadata": {
    "Collapsed": "false"
   },
   "outputs": [],
   "source": [
    "links.head()\n",
    "links.timestamp = pd.to_datetime(links.timestamp)"
   ]
  },
  {
   "cell_type": "code",
   "execution_count": 223,
   "metadata": {
    "Collapsed": "false"
   },
   "outputs": [],
   "source": [
    "no_links = links.groupby([pd.Grouper(key='timestamp', freq='W-MON')]).count()"
   ]
  },
  {
   "cell_type": "code",
   "execution_count": 224,
   "metadata": {
    "Collapsed": "false"
   },
   "outputs": [],
   "source": [
    "linksChart = alt.Chart(no_links.reset_index()).mark_line().encode(\n",
    "    alt.X('timestamp:T'),\n",
    "    alt.Y('rel_type:Q')\n",
    ")"
   ]
  },
  {
   "cell_type": "code",
   "execution_count": 225,
   "metadata": {
    "Collapsed": "false"
   },
   "outputs": [
    {
     "data": {
      "application/vnd.vegalite.v3+json": {
       "$schema": "https://vega.github.io/schema/vega-lite/v3.4.0.json",
       "config": {
        "mark": {
         "tooltip": null
        },
        "view": {
         "height": 300,
         "width": 400
        }
       },
       "datasets": {
        "data-5bca7073d716b76e80d11db5ed9e4657": [
         {
          "index": "2015-01-12",
          "modularity": 0.18
         },
         {
          "index": "2015-01-19",
          "modularity": -0.04498269896193771
         },
         {
          "index": "2015-01-26",
          "modularity": -0.1313799621928166
         },
         {
          "index": "2015-02-02",
          "modularity": -0.011284722222222286
         },
         {
          "index": "2015-02-09",
          "modularity": -0.009641873278236915
         },
         {
          "index": "2015-02-16",
          "modularity": -0.010802469135802531
         },
         {
          "index": "2015-02-23",
          "modularity": -0.02897923875432523
         },
         {
          "index": "2015-03-02",
          "modularity": 1.3877787807814457e-17
         },
         {
          "index": "2015-03-09",
          "modularity": -0.06897959183673474
         },
         {
          "index": "2015-03-16",
          "modularity": -0.07833333333333338
         },
         {
          "index": "2015-03-23",
          "modularity": -0.06106519742883376
         },
         {
          "index": "2015-03-30",
          "modularity": -0.06751543209876545
         },
         {
          "index": "2015-04-06",
          "modularity": -0.17631172839506176
         },
         {
          "index": "2015-04-13",
          "modularity": -0.00961538461538464
         },
         {
          "index": "2015-04-20",
          "modularity": 0.16077003121748182
         },
         {
          "index": "2015-04-27",
          "modularity": 0.09904844290657441
         },
         {
          "index": "2015-05-04",
          "modularity": 0.04663923182441703
         },
         {
          "index": "2015-05-11",
          "modularity": 0.044589774078478014
         },
         {
          "index": "2015-05-18",
          "modularity": 0.020000000000000018
         },
         {
          "index": "2015-05-25",
          "modularity": 0.10850694444444445
         },
         {
          "index": "2015-06-01",
          "modularity": 0.06163194444444446
         },
         {
          "index": "2015-06-08",
          "modularity": 0.0184
         },
         {
          "index": "2015-06-15",
          "modularity": -0.03722222222222216
         },
         {
          "index": "2015-06-22",
          "modularity": -0.1392
         },
         {
          "index": "2015-06-29",
          "modularity": -0.05291319857312724
         },
         {
          "index": "2015-07-06",
          "modularity": -0.00146484375
         },
         {
          "index": "2015-07-13",
          "modularity": 0.022857142857142895
         },
         {
          "index": "2015-07-20",
          "modularity": -0.12278876170655567
         },
         {
          "index": "2015-07-27",
          "modularity": -0.1383333333333334
         },
         {
          "index": "2015-08-03",
          "modularity": -0.095703125
         },
         {
          "index": "2015-08-10",
          "modularity": -0.00439453125
         },
         {
          "index": "2015-08-17",
          "modularity": 0.061983471074380125
         },
         {
          "index": "2015-08-24",
          "modularity": 0.08035062089116143
         },
         {
          "index": "2015-08-31",
          "modularity": 0.0004526935264825699
         },
         {
          "index": "2015-09-07",
          "modularity": -0.09596893491124255
         },
         {
          "index": "2015-09-14",
          "modularity": -0.01374427321949187
         },
         {
          "index": "2015-09-21",
          "modularity": 0.03636363636363635
         },
         {
          "index": "2015-09-28",
          "modularity": -0.03859999999999994
         },
         {
          "index": "2015-10-05",
          "modularity": 0.04347826086956523
         },
         {
          "index": "2015-10-12",
          "modularity": 0.11285609934258584
         },
         {
          "index": "2015-10-19",
          "modularity": 0.20959999999999995
         },
         {
          "index": "2015-10-26",
          "modularity": 0.11224489795918366
         },
         {
          "index": "2015-11-02",
          "modularity": -0.07618343195266275
         },
         {
          "index": "2015-11-09",
          "modularity": -0.06475069252077557
         },
         {
          "index": "2015-11-16",
          "modularity": -0.0117999999999999
         },
         {
          "index": "2015-11-23",
          "modularity": 0.040939836240655045
         },
         {
          "index": "2015-11-30",
          "modularity": 0.010204081632653031
         },
         {
          "index": "2015-12-07",
          "modularity": 0.04110046781020266
         },
         {
          "index": "2015-12-14",
          "modularity": 0.04689240365337494
         },
         {
          "index": "2015-12-21",
          "modularity": -0.004147376543209874
         },
         {
          "index": "2015-12-28",
          "modularity": 0.07470703125
         },
         {
          "index": "2016-01-04",
          "modularity": 0.0684113865932048
         },
         {
          "index": "2016-01-11",
          "modularity": 0.07084371662513353
         },
         {
          "index": "2016-01-18",
          "modularity": 0.00567874526771231
         },
         {
          "index": "2016-01-25",
          "modularity": -0.014739229024943318
         },
         {
          "index": "2016-02-01",
          "modularity": -0.06365740740740741
         },
         {
          "index": "2016-02-08",
          "modularity": -0.047812499999999966
         },
         {
          "index": "2016-02-15",
          "modularity": 0.02432610124917814
         },
         {
          "index": "2016-02-22",
          "modularity": 0.013749999999999998
         },
         {
          "index": "2016-02-29",
          "modularity": 0.006562500000000013
         },
         {
          "index": "2016-03-07",
          "modularity": 0.04060807996668054
         },
         {
          "index": "2016-03-14",
          "modularity": 0.04164413196322335
         },
         {
          "index": "2016-03-21",
          "modularity": 0.025312294543063753
         },
         {
          "index": "2016-03-28",
          "modularity": 0.1276931916116059
         },
         {
          "index": "2016-04-04",
          "modularity": 0.12316345270890725
         },
         {
          "index": "2016-04-11",
          "modularity": 0.08219178082191783
         },
         {
          "index": "2016-04-18",
          "modularity": 0.06321700277744238
         },
         {
          "index": "2016-04-25",
          "modularity": 0.06653735874515097
         },
         {
          "index": "2016-05-02",
          "modularity": 0.1493247922437673
         },
         {
          "index": "2016-05-09",
          "modularity": 0.09795918367346937
         },
         {
          "index": "2016-05-16",
          "modularity": 0.11696510560146921
         },
         {
          "index": "2016-05-23",
          "modularity": 0.03341501447983958
         },
         {
          "index": "2016-05-30",
          "modularity": 0.016158818097876265
         },
         {
          "index": "2016-06-06",
          "modularity": 0.07860790110185434
         },
         {
          "index": "2016-06-13",
          "modularity": -0.0031404958677686
         },
         {
          "index": "2016-06-20",
          "modularity": -0.014865205341395793
         },
         {
          "index": "2016-06-27",
          "modularity": 0.0250244140625
         },
         {
          "index": "2016-07-04",
          "modularity": 0.000710059171597624
         },
         {
          "index": "2016-07-11",
          "modularity": 0.02017264027021955
         },
         {
          "index": "2016-07-18",
          "modularity": -0.04043216752060596
         },
         {
          "index": "2016-07-25",
          "modularity": -0.018340270551508872
         },
         {
          "index": "2016-08-01",
          "modularity": -0.039861111111111104
         },
         {
          "index": "2016-08-08",
          "modularity": -0.1534777176176593
         },
         {
          "index": "2016-08-15",
          "modularity": -0.0496296296296296
         },
         {
          "index": "2016-08-22",
          "modularity": -0.07050619834710736
         },
         {
          "index": "2016-08-29",
          "modularity": 0.0626557493770025
         },
         {
          "index": "2016-09-05",
          "modularity": 0.11294703485740148
         },
         {
          "index": "2016-09-12",
          "modularity": 0.18554768846314038
         },
         {
          "index": "2016-09-19",
          "modularity": 0.14481378885811014
         },
         {
          "index": "2016-09-26",
          "modularity": 0.16235764850723294
         },
         {
          "index": "2016-10-03",
          "modularity": 0.20064899945916712
         },
         {
          "index": "2016-10-10",
          "modularity": 0.15718749999999998
         },
         {
          "index": "2016-10-17",
          "modularity": 0.08122448979591837
         },
         {
          "index": "2016-10-24",
          "modularity": 0.09670781893004116
         },
         {
          "index": "2016-10-31",
          "modularity": 0.19333910034602078
         },
         {
          "index": "2016-11-07",
          "modularity": 0.16033601168736306
         },
         {
          "index": "2016-11-14",
          "modularity": 0.14162049861495846
         },
         {
          "index": "2016-11-21",
          "modularity": 0.12419753086419758
         },
         {
          "index": "2016-11-28",
          "modularity": 0.11246768170066074
         },
         {
          "index": "2016-12-05",
          "modularity": 0.08012543252595157
         },
         {
          "index": "2016-12-12",
          "modularity": 0.14285714285714285
         },
         {
          "index": "2016-12-19",
          "modularity": 0.07873519778281682
         },
         {
          "index": "2016-12-26",
          "modularity": 0.07805990874826423
         },
         {
          "index": "2017-01-02",
          "modularity": 0.06048387096774197
         },
         {
          "index": "2017-01-09",
          "modularity": 0.12379853902345253
         },
         {
          "index": "2017-01-16",
          "modularity": 0.1859393579072533
         },
         {
          "index": "2017-01-23",
          "modularity": 0.21933884297520662
         },
         {
          "index": "2017-01-30",
          "modularity": 0.13869612856099336
         },
         {
          "index": "2017-02-06",
          "modularity": 0.10817777777777779
         },
         {
          "index": "2017-02-13",
          "modularity": 0.17191043083900223
         },
         {
          "index": "2017-02-20",
          "modularity": 0.13795835219556363
         },
         {
          "index": "2017-02-27",
          "modularity": 0.15928460743801645
         },
         {
          "index": "2017-03-06",
          "modularity": 0.1777312060573283
         },
         {
          "index": "2017-03-13",
          "modularity": 0.16786703601108033
         },
         {
          "index": "2017-03-20",
          "modularity": 0.16006520951575898
         },
         {
          "index": "2017-03-27",
          "modularity": 0.1574266944399936
         },
         {
          "index": "2017-04-03",
          "modularity": 0.1471875
         },
         {
          "index": "2017-04-10",
          "modularity": 0.1667387543252595
         },
         {
          "index": "2017-04-17",
          "modularity": 0.08290289256198355
         },
         {
          "index": "2017-04-24",
          "modularity": 0.0416666666666666
         },
         {
          "index": "2017-05-01",
          "modularity": 0.1638905413444378
         },
         {
          "index": "2017-05-08",
          "modularity": 0.23313625369524318
         },
         {
          "index": "2017-05-15",
          "modularity": 0.26765426598351527
         },
         {
          "index": "2017-05-22",
          "modularity": 0.20755385487528344
         },
         {
          "index": "2017-05-29",
          "modularity": 0.18884316415180608
         },
         {
          "index": "2017-06-05",
          "modularity": 0.18146130427816054
         },
         {
          "index": "2017-06-12",
          "modularity": 0.17586293776769962
         },
         {
          "index": "2017-06-19",
          "modularity": 0.12532439446366783
         },
         {
          "index": "2017-06-26",
          "modularity": 0.22502162629757788
         },
         {
          "index": "2017-07-03",
          "modularity": 0.3011998685075608
         },
         {
          "index": "2017-07-10",
          "modularity": 0.28546129195479847
         },
         {
          "index": "2017-07-17",
          "modularity": 0.3611212563915267
         },
         {
          "index": "2017-07-24",
          "modularity": 0.26977237654320985
         },
         {
          "index": "2017-07-31",
          "modularity": 0.21449704142011833
         },
         {
          "index": "2017-08-07",
          "modularity": 0.13425925925925924
         },
         {
          "index": "2017-08-14",
          "modularity": 0.0632
         },
         {
          "index": "2017-08-21",
          "modularity": 0.07470414201183434
         },
         {
          "index": "2017-08-28",
          "modularity": 0.13579604578563992
         }
        ],
        "data-936e147a9ed45161f80911a89fb8dd37": [
         {
          "link_id": 4,
          "rel_type": 4,
          "source": 4,
          "target": 4,
          "timestamp": "2015-01-05T00:00:00"
         },
         {
          "link_id": 20,
          "rel_type": 20,
          "source": 20,
          "target": 20,
          "timestamp": "2015-01-12T00:00:00"
         },
         {
          "link_id": 30,
          "rel_type": 30,
          "source": 30,
          "target": 30,
          "timestamp": "2015-01-19T00:00:00"
         },
         {
          "link_id": 21,
          "rel_type": 21,
          "source": 21,
          "target": 21,
          "timestamp": "2015-01-26T00:00:00"
         },
         {
          "link_id": 29,
          "rel_type": 29,
          "source": 29,
          "target": 29,
          "timestamp": "2015-02-02T00:00:00"
         },
         {
          "link_id": 23,
          "rel_type": 23,
          "source": 23,
          "target": 23,
          "timestamp": "2015-02-09T00:00:00"
         },
         {
          "link_id": 3,
          "rel_type": 3,
          "source": 3,
          "target": 3,
          "timestamp": "2015-02-16T00:00:00"
         },
         {
          "link_id": 16,
          "rel_type": 16,
          "source": 16,
          "target": 16,
          "timestamp": "2015-02-23T00:00:00"
         },
         {
          "link_id": 37,
          "rel_type": 37,
          "source": 37,
          "target": 37,
          "timestamp": "2015-03-02T00:00:00"
         },
         {
          "link_id": 33,
          "rel_type": 33,
          "source": 33,
          "target": 33,
          "timestamp": "2015-03-09T00:00:00"
         },
         {
          "link_id": 23,
          "rel_type": 23,
          "source": 23,
          "target": 23,
          "timestamp": "2015-03-16T00:00:00"
         },
         {
          "link_id": 10,
          "rel_type": 10,
          "source": 10,
          "target": 10,
          "timestamp": "2015-03-23T00:00:00"
         },
         {
          "link_id": 36,
          "rel_type": 36,
          "source": 36,
          "target": 36,
          "timestamp": "2015-03-30T00:00:00"
         },
         {
          "link_id": 3,
          "rel_type": 3,
          "source": 3,
          "target": 3,
          "timestamp": "2015-04-06T00:00:00"
         },
         {
          "link_id": 19,
          "rel_type": 19,
          "source": 19,
          "target": 19,
          "timestamp": "2015-04-13T00:00:00"
         },
         {
          "link_id": 26,
          "rel_type": 26,
          "source": 26,
          "target": 26,
          "timestamp": "2015-04-20T00:00:00"
         },
         {
          "link_id": 25,
          "rel_type": 25,
          "source": 25,
          "target": 25,
          "timestamp": "2015-04-27T00:00:00"
         },
         {
          "link_id": 8,
          "rel_type": 8,
          "source": 8,
          "target": 8,
          "timestamp": "2015-05-04T00:00:00"
         },
         {
          "link_id": 20,
          "rel_type": 20,
          "source": 20,
          "target": 20,
          "timestamp": "2015-05-11T00:00:00"
         },
         {
          "link_id": 17,
          "rel_type": 17,
          "source": 17,
          "target": 17,
          "timestamp": "2015-05-18T00:00:00"
         },
         {
          "link_id": 9,
          "rel_type": 9,
          "source": 9,
          "target": 9,
          "timestamp": "2015-05-25T00:00:00"
         },
         {
          "link_id": 4,
          "rel_type": 4,
          "source": 4,
          "target": 4,
          "timestamp": "2015-06-01T00:00:00"
         },
         {
          "link_id": 50,
          "rel_type": 50,
          "source": 50,
          "target": 50,
          "timestamp": "2015-06-08T00:00:00"
         },
         {
          "link_id": 42,
          "rel_type": 42,
          "source": 42,
          "target": 42,
          "timestamp": "2015-06-15T00:00:00"
         },
         {
          "link_id": 76,
          "rel_type": 76,
          "source": 76,
          "target": 76,
          "timestamp": "2015-06-22T00:00:00"
         },
         {
          "link_id": 44,
          "rel_type": 44,
          "source": 44,
          "target": 44,
          "timestamp": "2015-06-29T00:00:00"
         },
         {
          "link_id": 25,
          "rel_type": 25,
          "source": 25,
          "target": 25,
          "timestamp": "2015-07-06T00:00:00"
         },
         {
          "link_id": 72,
          "rel_type": 72,
          "source": 72,
          "target": 72,
          "timestamp": "2015-07-13T00:00:00"
         },
         {
          "link_id": 30,
          "rel_type": 30,
          "source": 30,
          "target": 30,
          "timestamp": "2015-07-20T00:00:00"
         },
         {
          "link_id": 13,
          "rel_type": 13,
          "source": 13,
          "target": 13,
          "timestamp": "2015-07-27T00:00:00"
         },
         {
          "link_id": 21,
          "rel_type": 21,
          "source": 21,
          "target": 21,
          "timestamp": "2015-08-03T00:00:00"
         },
         {
          "link_id": 18,
          "rel_type": 18,
          "source": 18,
          "target": 18,
          "timestamp": "2015-08-10T00:00:00"
         },
         {
          "link_id": 34,
          "rel_type": 34,
          "source": 34,
          "target": 34,
          "timestamp": "2015-08-17T00:00:00"
         },
         {
          "link_id": 49,
          "rel_type": 49,
          "source": 49,
          "target": 49,
          "timestamp": "2015-08-24T00:00:00"
         },
         {
          "link_id": 84,
          "rel_type": 84,
          "source": 84,
          "target": 84,
          "timestamp": "2015-08-31T00:00:00"
         },
         {
          "link_id": 135,
          "rel_type": 135,
          "source": 135,
          "target": 135,
          "timestamp": "2015-09-07T00:00:00"
         },
         {
          "link_id": 53,
          "rel_type": 53,
          "source": 53,
          "target": 53,
          "timestamp": "2015-09-14T00:00:00"
         },
         {
          "link_id": 54,
          "rel_type": 54,
          "source": 54,
          "target": 54,
          "timestamp": "2015-09-21T00:00:00"
         },
         {
          "link_id": 17,
          "rel_type": 17,
          "source": 17,
          "target": 17,
          "timestamp": "2015-09-28T00:00:00"
         },
         {
          "link_id": 1,
          "rel_type": 1,
          "source": 1,
          "target": 1,
          "timestamp": "2015-10-05T00:00:00"
         },
         {
          "link_id": 2,
          "rel_type": 2,
          "source": 2,
          "target": 2,
          "timestamp": "2015-10-12T00:00:00"
         },
         {
          "link_id": 16,
          "rel_type": 16,
          "source": 16,
          "target": 16,
          "timestamp": "2015-10-19T00:00:00"
         },
         {
          "link_id": 27,
          "rel_type": 27,
          "source": 27,
          "target": 27,
          "timestamp": "2015-10-26T00:00:00"
         },
         {
          "link_id": 48,
          "rel_type": 48,
          "source": 48,
          "target": 48,
          "timestamp": "2015-11-02T00:00:00"
         },
         {
          "link_id": 45,
          "rel_type": 45,
          "source": 45,
          "target": 45,
          "timestamp": "2015-11-09T00:00:00"
         },
         {
          "link_id": 38,
          "rel_type": 38,
          "source": 38,
          "target": 38,
          "timestamp": "2015-11-16T00:00:00"
         },
         {
          "link_id": 39,
          "rel_type": 39,
          "source": 39,
          "target": 39,
          "timestamp": "2015-11-23T00:00:00"
         },
         {
          "link_id": 27,
          "rel_type": 27,
          "source": 27,
          "target": 27,
          "timestamp": "2015-11-30T00:00:00"
         },
         {
          "link_id": 98,
          "rel_type": 98,
          "source": 98,
          "target": 98,
          "timestamp": "2015-12-07T00:00:00"
         },
         {
          "link_id": 47,
          "rel_type": 47,
          "source": 47,
          "target": 47,
          "timestamp": "2015-12-14T00:00:00"
         },
         {
          "link_id": 39,
          "rel_type": 39,
          "source": 39,
          "target": 39,
          "timestamp": "2015-12-21T00:00:00"
         },
         {
          "link_id": 13,
          "rel_type": 13,
          "source": 13,
          "target": 13,
          "timestamp": "2015-12-28T00:00:00"
         },
         {
          "link_id": 41,
          "rel_type": 41,
          "source": 41,
          "target": 41,
          "timestamp": "2016-01-04T00:00:00"
         },
         {
          "link_id": 69,
          "rel_type": 69,
          "source": 69,
          "target": 69,
          "timestamp": "2016-01-11T00:00:00"
         },
         {
          "link_id": 29,
          "rel_type": 29,
          "source": 29,
          "target": 29,
          "timestamp": "2016-01-18T00:00:00"
         },
         {
          "link_id": 54,
          "rel_type": 54,
          "source": 54,
          "target": 54,
          "timestamp": "2016-01-25T00:00:00"
         },
         {
          "link_id": 28,
          "rel_type": 28,
          "source": 28,
          "target": 28,
          "timestamp": "2016-02-01T00:00:00"
         },
         {
          "link_id": 68,
          "rel_type": 68,
          "source": 68,
          "target": 68,
          "timestamp": "2016-02-08T00:00:00"
         },
         {
          "link_id": 56,
          "rel_type": 56,
          "source": 56,
          "target": 56,
          "timestamp": "2016-02-15T00:00:00"
         },
         {
          "link_id": 30,
          "rel_type": 30,
          "source": 30,
          "target": 30,
          "timestamp": "2016-02-22T00:00:00"
         },
         {
          "link_id": 41,
          "rel_type": 41,
          "source": 41,
          "target": 41,
          "timestamp": "2016-02-29T00:00:00"
         },
         {
          "link_id": 53,
          "rel_type": 53,
          "source": 53,
          "target": 53,
          "timestamp": "2016-03-07T00:00:00"
         },
         {
          "link_id": 50,
          "rel_type": 50,
          "source": 50,
          "target": 50,
          "timestamp": "2016-03-14T00:00:00"
         },
         {
          "link_id": 133,
          "rel_type": 133,
          "source": 133,
          "target": 133,
          "timestamp": "2016-03-21T00:00:00"
         },
         {
          "link_id": 11,
          "rel_type": 11,
          "source": 11,
          "target": 11,
          "timestamp": "2016-03-28T00:00:00"
         },
         {
          "link_id": 67,
          "rel_type": 67,
          "source": 67,
          "target": 67,
          "timestamp": "2016-04-04T00:00:00"
         },
         {
          "link_id": 98,
          "rel_type": 98,
          "source": 98,
          "target": 98,
          "timestamp": "2016-04-11T00:00:00"
         },
         {
          "link_id": 201,
          "rel_type": 201,
          "source": 201,
          "target": 201,
          "timestamp": "2016-04-18T00:00:00"
         },
         {
          "link_id": 116,
          "rel_type": 116,
          "source": 116,
          "target": 116,
          "timestamp": "2016-04-25T00:00:00"
         },
         {
          "link_id": 91,
          "rel_type": 91,
          "source": 91,
          "target": 91,
          "timestamp": "2016-05-02T00:00:00"
         },
         {
          "link_id": 62,
          "rel_type": 62,
          "source": 62,
          "target": 62,
          "timestamp": "2016-05-09T00:00:00"
         },
         {
          "link_id": 98,
          "rel_type": 98,
          "source": 98,
          "target": 98,
          "timestamp": "2016-05-16T00:00:00"
         },
         {
          "link_id": 39,
          "rel_type": 39,
          "source": 39,
          "target": 39,
          "timestamp": "2016-05-23T00:00:00"
         },
         {
          "link_id": 54,
          "rel_type": 54,
          "source": 54,
          "target": 54,
          "timestamp": "2016-05-30T00:00:00"
         },
         {
          "link_id": 71,
          "rel_type": 71,
          "source": 71,
          "target": 71,
          "timestamp": "2016-06-06T00:00:00"
         },
         {
          "link_id": 98,
          "rel_type": 98,
          "source": 98,
          "target": 98,
          "timestamp": "2016-06-13T00:00:00"
         },
         {
          "link_id": 193,
          "rel_type": 193,
          "source": 193,
          "target": 193,
          "timestamp": "2016-06-20T00:00:00"
         },
         {
          "link_id": 109,
          "rel_type": 109,
          "source": 109,
          "target": 109,
          "timestamp": "2016-06-27T00:00:00"
         },
         {
          "link_id": 112,
          "rel_type": 112,
          "source": 112,
          "target": 112,
          "timestamp": "2016-07-04T00:00:00"
         },
         {
          "link_id": 71,
          "rel_type": 71,
          "source": 71,
          "target": 71,
          "timestamp": "2016-07-11T00:00:00"
         },
         {
          "link_id": 67,
          "rel_type": 67,
          "source": 67,
          "target": 67,
          "timestamp": "2016-07-18T00:00:00"
         },
         {
          "link_id": 25,
          "rel_type": 25,
          "source": 25,
          "target": 25,
          "timestamp": "2016-07-25T00:00:00"
         },
         {
          "link_id": 29,
          "rel_type": 29,
          "source": 29,
          "target": 29,
          "timestamp": "2016-08-01T00:00:00"
         },
         {
          "link_id": 13,
          "rel_type": 13,
          "source": 13,
          "target": 13,
          "timestamp": "2016-08-08T00:00:00"
         },
         {
          "link_id": 21,
          "rel_type": 21,
          "source": 21,
          "target": 21,
          "timestamp": "2016-08-15T00:00:00"
         },
         {
          "link_id": 6,
          "rel_type": 6,
          "source": 6,
          "target": 6,
          "timestamp": "2016-08-22T00:00:00"
         },
         {
          "link_id": 48,
          "rel_type": 48,
          "source": 48,
          "target": 48,
          "timestamp": "2016-08-29T00:00:00"
         },
         {
          "link_id": 17,
          "rel_type": 17,
          "source": 17,
          "target": 17,
          "timestamp": "2016-09-05T00:00:00"
         },
         {
          "link_id": 33,
          "rel_type": 33,
          "source": 33,
          "target": 33,
          "timestamp": "2016-09-12T00:00:00"
         },
         {
          "link_id": 12,
          "rel_type": 12,
          "source": 12,
          "target": 12,
          "timestamp": "2016-09-19T00:00:00"
         },
         {
          "link_id": 13,
          "rel_type": 13,
          "source": 13,
          "target": 13,
          "timestamp": "2016-09-26T00:00:00"
         },
         {
          "link_id": 12,
          "rel_type": 12,
          "source": 12,
          "target": 12,
          "timestamp": "2016-10-03T00:00:00"
         },
         {
          "link_id": 21,
          "rel_type": 21,
          "source": 21,
          "target": 21,
          "timestamp": "2016-10-10T00:00:00"
         },
         {
          "link_id": 9,
          "rel_type": 9,
          "source": 9,
          "target": 9,
          "timestamp": "2016-10-17T00:00:00"
         },
         {
          "link_id": 27,
          "rel_type": 27,
          "source": 27,
          "target": 27,
          "timestamp": "2016-10-24T00:00:00"
         },
         {
          "link_id": 39,
          "rel_type": 39,
          "source": 39,
          "target": 39,
          "timestamp": "2016-10-31T00:00:00"
         },
         {
          "link_id": 25,
          "rel_type": 25,
          "source": 25,
          "target": 25,
          "timestamp": "2016-11-07T00:00:00"
         },
         {
          "link_id": 53,
          "rel_type": 53,
          "source": 53,
          "target": 53,
          "timestamp": "2016-11-14T00:00:00"
         },
         {
          "link_id": 45,
          "rel_type": 45,
          "source": 45,
          "target": 45,
          "timestamp": "2016-11-21T00:00:00"
         },
         {
          "link_id": 68,
          "rel_type": 68,
          "source": 68,
          "target": 68,
          "timestamp": "2016-11-28T00:00:00"
         },
         {
          "link_id": 50,
          "rel_type": 50,
          "source": 50,
          "target": 50,
          "timestamp": "2016-12-05T00:00:00"
         },
         {
          "link_id": 34,
          "rel_type": 34,
          "source": 34,
          "target": 34,
          "timestamp": "2016-12-12T00:00:00"
         },
         {
          "link_id": 40,
          "rel_type": 40,
          "source": 40,
          "target": 40,
          "timestamp": "2016-12-19T00:00:00"
         },
         {
          "link_id": 8,
          "rel_type": 8,
          "source": 8,
          "target": 8,
          "timestamp": "2016-12-26T00:00:00"
         },
         {
          "link_id": 21,
          "rel_type": 21,
          "source": 21,
          "target": 21,
          "timestamp": "2017-01-02T00:00:00"
         },
         {
          "link_id": 46,
          "rel_type": 46,
          "source": 46,
          "target": 46,
          "timestamp": "2017-01-09T00:00:00"
         },
         {
          "link_id": 152,
          "rel_type": 152,
          "source": 152,
          "target": 152,
          "timestamp": "2017-01-16T00:00:00"
         },
         {
          "link_id": 106,
          "rel_type": 106,
          "source": 106,
          "target": 106,
          "timestamp": "2017-01-23T00:00:00"
         },
         {
          "link_id": 61,
          "rel_type": 61,
          "source": 61,
          "target": 61,
          "timestamp": "2017-01-30T00:00:00"
         },
         {
          "link_id": 31,
          "rel_type": 31,
          "source": 31,
          "target": 31,
          "timestamp": "2017-02-06T00:00:00"
         },
         {
          "link_id": 56,
          "rel_type": 56,
          "source": 56,
          "target": 56,
          "timestamp": "2017-02-13T00:00:00"
         },
         {
          "link_id": 65,
          "rel_type": 65,
          "source": 65,
          "target": 65,
          "timestamp": "2017-02-20T00:00:00"
         },
         {
          "link_id": 52,
          "rel_type": 52,
          "source": 52,
          "target": 52,
          "timestamp": "2017-02-27T00:00:00"
         },
         {
          "link_id": 66,
          "rel_type": 66,
          "source": 66,
          "target": 66,
          "timestamp": "2017-03-06T00:00:00"
         },
         {
          "link_id": 50,
          "rel_type": 50,
          "source": 50,
          "target": 50,
          "timestamp": "2017-03-13T00:00:00"
         },
         {
          "link_id": 22,
          "rel_type": 22,
          "source": 22,
          "target": 22,
          "timestamp": "2017-03-20T00:00:00"
         },
         {
          "link_id": 42,
          "rel_type": 42,
          "source": 42,
          "target": 42,
          "timestamp": "2017-03-27T00:00:00"
         },
         {
          "link_id": 15,
          "rel_type": 15,
          "source": 15,
          "target": 15,
          "timestamp": "2017-04-03T00:00:00"
         },
         {
          "link_id": 13,
          "rel_type": 13,
          "source": 13,
          "target": 13,
          "timestamp": "2017-04-10T00:00:00"
         },
         {
          "link_id": 8,
          "rel_type": 8,
          "source": 8,
          "target": 8,
          "timestamp": "2017-04-17T00:00:00"
         },
         {
          "link_id": 25,
          "rel_type": 25,
          "source": 25,
          "target": 25,
          "timestamp": "2017-04-24T00:00:00"
         },
         {
          "link_id": 27,
          "rel_type": 27,
          "source": 27,
          "target": 27,
          "timestamp": "2017-05-01T00:00:00"
         },
         {
          "link_id": 63,
          "rel_type": 63,
          "source": 63,
          "target": 63,
          "timestamp": "2017-05-08T00:00:00"
         },
         {
          "link_id": 42,
          "rel_type": 42,
          "source": 42,
          "target": 42,
          "timestamp": "2017-05-15T00:00:00"
         },
         {
          "link_id": 28,
          "rel_type": 28,
          "source": 28,
          "target": 28,
          "timestamp": "2017-05-22T00:00:00"
         },
         {
          "link_id": 63,
          "rel_type": 63,
          "source": 63,
          "target": 63,
          "timestamp": "2017-05-29T00:00:00"
         },
         {
          "link_id": 44,
          "rel_type": 44,
          "source": 44,
          "target": 44,
          "timestamp": "2017-06-05T00:00:00"
         },
         {
          "link_id": 47,
          "rel_type": 47,
          "source": 47,
          "target": 47,
          "timestamp": "2017-06-12T00:00:00"
         },
         {
          "link_id": 29,
          "rel_type": 29,
          "source": 29,
          "target": 29,
          "timestamp": "2017-06-19T00:00:00"
         },
         {
          "link_id": 45,
          "rel_type": 45,
          "source": 45,
          "target": 45,
          "timestamp": "2017-06-26T00:00:00"
         },
         {
          "link_id": 44,
          "rel_type": 44,
          "source": 44,
          "target": 44,
          "timestamp": "2017-07-03T00:00:00"
         },
         {
          "link_id": 25,
          "rel_type": 25,
          "source": 25,
          "target": 25,
          "timestamp": "2017-07-10T00:00:00"
         },
         {
          "link_id": 18,
          "rel_type": 18,
          "source": 18,
          "target": 18,
          "timestamp": "2017-07-17T00:00:00"
         },
         {
          "link_id": 23,
          "rel_type": 23,
          "source": 23,
          "target": 23,
          "timestamp": "2017-07-24T00:00:00"
         },
         {
          "link_id": 5,
          "rel_type": 5,
          "source": 5,
          "target": 5,
          "timestamp": "2017-07-31T00:00:00"
         },
         {
          "link_id": 3,
          "rel_type": 3,
          "source": 3,
          "target": 3,
          "timestamp": "2017-08-07T00:00:00"
         },
         {
          "link_id": 17,
          "rel_type": 17,
          "source": 17,
          "target": 17,
          "timestamp": "2017-08-14T00:00:00"
         },
         {
          "link_id": 9,
          "rel_type": 9,
          "source": 9,
          "target": 9,
          "timestamp": "2017-08-21T00:00:00"
         },
         {
          "link_id": 93,
          "rel_type": 93,
          "source": 93,
          "target": 93,
          "timestamp": "2017-08-28T00:00:00"
         },
         {
          "link_id": 36,
          "rel_type": 36,
          "source": 36,
          "target": 36,
          "timestamp": "2017-09-04T00:00:00"
         }
        ]
       },
       "vconcat": [
        {
         "data": {
          "name": "data-5bca7073d716b76e80d11db5ed9e4657"
         },
         "encoding": {
          "x": {
           "field": "index",
           "type": "temporal"
          },
          "y": {
           "field": "modularity",
           "type": "quantitative"
          }
         },
         "mark": "line"
        },
        {
         "data": {
          "name": "data-936e147a9ed45161f80911a89fb8dd37"
         },
         "encoding": {
          "x": {
           "field": "timestamp",
           "type": "temporal"
          },
          "y": {
           "field": "rel_type",
           "type": "quantitative"
          }
         },
         "mark": "line"
        }
       ]
      },
      "image/png": "[encoded data removed]",
      "text/plain": [
       "<VegaLite 3 object>\n",
       "\n",
       "If you see this message, it means the renderer has not been properly enabled\n",
       "for the frontend that you are using. For more information, see\n",
       "https://altair-viz.github.io/user_guide/troubleshooting.html\n"
      ]
     },
     "execution_count": 225,
     "metadata": {},
     "output_type": "execute_result"
    }
   ],
   "source": [
    "modChart & linksChart"
   ]
  },
  {
   "cell_type": "code",
   "execution_count": null,
   "metadata": {
    "Collapsed": "false"
   },
   "outputs": [],
   "source": []
  }
 ],
 "metadata": {
  "kernelspec": {
   "display_name": "Python 3",
   "language": "python",
   "name": "python3"
  },
  "language_info": {
   "codemirror_mode": {
    "name": "ipython",
    "version": 3
   },
   "file_extension": ".py",
   "mimetype": "text/x-python",
   "name": "python",
   "nbconvert_exporter": "python",
   "pygments_lexer": "ipython3",
   "version": "3.7.3"
  }
 },
 "nbformat": 4,
 "nbformat_minor": 4
}
