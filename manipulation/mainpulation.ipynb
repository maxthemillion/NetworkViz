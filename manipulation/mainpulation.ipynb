{
 "cells": [
  {
   "cell_type": "markdown",
   "metadata": {
    "Collapsed": "false"
   },
   "source": [
    "# Data Manipulation to Make viz work"
   ]
  },
  {
   "cell_type": "code",
   "execution_count": 1,
   "metadata": {
    "Collapsed": "false"
   },
   "outputs": [],
   "source": [
    "import pandas as pd\n",
    "import altair as alt\n",
    "import json\n",
    "import os"
   ]
  },
  {
   "cell_type": "markdown",
   "metadata": {
    "Collapsed": "false"
   },
   "source": [
    "## exploration"
   ]
  },
  {
   "cell_type": "code",
   "execution_count": 27,
   "metadata": {
    "Collapsed": "false"
   },
   "outputs": [],
   "source": [
    "files = ['viz_BobPalmer.json',\n",
    "       'viz_gatsbyjs.json', \n",
    "       'viz_getnikola.json',\n",
    "       'viz_novus.json',\n",
    "       'viz_OneDrive.json',\n",
    "       'viz_rathena.json',\n",
    "       'viz_Tribler.json',\n",
    "       'viz_waffleio.json'\n",
    "      ]"
   ]
  },
  {
   "cell_type": "code",
   "execution_count": 171,
   "metadata": {
    "Collapsed": "false"
   },
   "outputs": [],
   "source": [
    "def regroupModularity(data, key='modularity'):\n",
    "    d = pd.DataFrame.from_dict(data[key], orient='index')\n",
    "    \n",
    "    d.index = pd.to_datetime(d.index)\n",
    "    d = d.sort_index().reset_index()\n",
    "    d.columns =  ['timestamp', 'modularity']\n",
    "    d.timestamp = d.timestamp.apply(lambda x: (x - pd.Timedelta(x.isoweekday()-1, unit='D')).strftime('%Y-%m-%d'))\n",
    "    d = d.set_index('timestamp')\n",
    "    \n",
    "    return d"
   ]
  },
  {
   "cell_type": "code",
   "execution_count": 172,
   "metadata": {
    "Collapsed": "false"
   },
   "outputs": [],
   "source": [
    "def regroupLinkCount(data, key='links'):\n",
    "    d = pd.DataFrame.from_dict(data[key], orient='columns')\n",
    "    \n",
    "    d.timestamp = pd.to_datetime(d.timestamp)\n",
    "    d_grouped = d.groupby([pd.Grouper(key='timestamp', freq='W-MON')]).count()\n",
    "    d_grouped = d_grouped.iloc[:,1]\n",
    "    \n",
    "    d_grouped.index = d_grouped.index.strftime('%Y-%m-%d')\n",
    "    \n",
    "    return d_grouped"
   ]
  },
  {
   "cell_type": "code",
   "execution_count": 173,
   "metadata": {
    "Collapsed": "false"
   },
   "outputs": [],
   "source": [
    "def adjustLinkDates(data, key='links'):\n",
    "    links = pd.DataFrame.from_dict(data[key], orient='columns')\n",
    "    links.timestamp = pd.to_datetime(links.timestamp)\n",
    "    links.timestamp = links.timestamp.apply(lambda x: (x - pd.Timedelta(x.isoweekday()-1, unit='D')).strftime('%Y-%m-%d'))\n",
    "    return links"
   ]
  },
  {
   "cell_type": "code",
   "execution_count": 174,
   "metadata": {
    "Collapsed": "false"
   },
   "outputs": [],
   "source": [
    "def fixData(files):\n",
    "    for file in files:\n",
    "        with open(os.path.join('./original_data/', file)) as f:\n",
    "            data = json.load(f)\n",
    "\n",
    "        data['links'] = adjustLinkDates(data).to_dict(orient='records')\n",
    "\n",
    "        data['modularity'] = regroupModularity(data).to_dict()['modularity']      \n",
    "        \n",
    "        data['no_links'] = regroupLinkCount(data).to_dict()\n",
    "        \n",
    "        \n",
    "        with open(os.path.join('./new_data/', file), 'w') as f:\n",
    "            json.dump(data, f)"
   ]
  },
  {
   "cell_type": "code",
   "execution_count": 175,
   "metadata": {
    "Collapsed": "false"
   },
   "outputs": [],
   "source": [
    "fixData(files)"
   ]
  },
  {
   "cell_type": "markdown",
   "metadata": {
    "Collapsed": "false"
   },
   "source": [
    "## some plots"
   ]
  },
  {
   "cell_type": "code",
   "execution_count": 41,
   "metadata": {
    "Collapsed": "false"
   },
   "outputs": [],
   "source": [
    "file = 'viz_Tribler.json'\n",
    "with open(os.path.join('./original_data/', file)) as f:\n",
    "    data = json.load(f)"
   ]
  },
  {
   "cell_type": "markdown",
   "metadata": {
    "Collapsed": "false"
   },
   "source": [
    "### modularity"
   ]
  },
  {
   "cell_type": "code",
   "execution_count": 219,
   "metadata": {
    "Collapsed": "false"
   },
   "outputs": [],
   "source": [
    "modularity = pd.DataFrame.from_dict(data['modularity'], orient='index')\n",
    "modularity.columns = ['modularity']"
   ]
  },
  {
   "cell_type": "code",
   "execution_count": 220,
   "metadata": {
    "Collapsed": "false"
   },
   "outputs": [],
   "source": [
    "modChart = alt.Chart(modularity.reset_index()).mark_line().encode(\n",
    "    alt.Y(shorthand='modularity:Q'),\n",
    "    alt.X(shorthand='index:T')\n",
    ")"
   ]
  },
  {
   "cell_type": "markdown",
   "metadata": {
    "Collapsed": "false"
   },
   "source": [
    "### Links"
   ]
  },
  {
   "cell_type": "code",
   "execution_count": 4,
   "metadata": {
    "Collapsed": "false"
   },
   "outputs": [],
   "source": [
    "links = pd.DataFrame.from_dict(data['links'], orient='columns')"
   ]
  },
  {
   "cell_type": "code",
   "execution_count": 6,
   "metadata": {
    "Collapsed": "false"
   },
   "outputs": [],
   "source": [
    "links.timestamp = pd.to_datetime(links.timestamp)"
   ]
  },
  {
   "cell_type": "code",
   "execution_count": 7,
   "metadata": {
    "Collapsed": "false"
   },
   "outputs": [],
   "source": [
    "no_links = links.groupby([pd.Grouper(key='timestamp', freq='W-MON')]).count()"
   ]
  },
  {
   "cell_type": "code",
   "execution_count": 8,
   "metadata": {
    "Collapsed": "false"
   },
   "outputs": [],
   "source": [
    "linksChart = alt.Chart(no_links.reset_index()).mark_line().encode(\n",
    "    alt.X('timestamp:T'),\n",
    "    alt.Y('rel_type:Q')\n",
    ")"
   ]
  },
  {
   "cell_type": "code",
   "execution_count": 9,
   "metadata": {
    "Collapsed": "false"
   },
   "outputs": [
    {
     "data": {
      "application/vnd.vegalite.v3+json": {
       "$schema": "https://vega.github.io/schema/vega-lite/v3.4.0.json",
       "config": {
        "mark": {
         "tooltip": null
        },
        "view": {
         "height": 300,
         "width": 400
        }
       },
       "data": {
        "name": "data-936e147a9ed45161f80911a89fb8dd37"
       },
       "datasets": {
        "data-936e147a9ed45161f80911a89fb8dd37": [
         {
          "link_id": 4,
          "rel_type": 4,
          "source": 4,
          "target": 4,
          "timestamp": "2015-01-05T00:00:00"
         },
         {
          "link_id": 20,
          "rel_type": 20,
          "source": 20,
          "target": 20,
          "timestamp": "2015-01-12T00:00:00"
         },
         {
          "link_id": 30,
          "rel_type": 30,
          "source": 30,
          "target": 30,
          "timestamp": "2015-01-19T00:00:00"
         },
         {
          "link_id": 21,
          "rel_type": 21,
          "source": 21,
          "target": 21,
          "timestamp": "2015-01-26T00:00:00"
         },
         {
          "link_id": 29,
          "rel_type": 29,
          "source": 29,
          "target": 29,
          "timestamp": "2015-02-02T00:00:00"
         },
         {
          "link_id": 23,
          "rel_type": 23,
          "source": 23,
          "target": 23,
          "timestamp": "2015-02-09T00:00:00"
         },
         {
          "link_id": 3,
          "rel_type": 3,
          "source": 3,
          "target": 3,
          "timestamp": "2015-02-16T00:00:00"
         },
         {
          "link_id": 16,
          "rel_type": 16,
          "source": 16,
          "target": 16,
          "timestamp": "2015-02-23T00:00:00"
         },
         {
          "link_id": 37,
          "rel_type": 37,
          "source": 37,
          "target": 37,
          "timestamp": "2015-03-02T00:00:00"
         },
         {
          "link_id": 33,
          "rel_type": 33,
          "source": 33,
          "target": 33,
          "timestamp": "2015-03-09T00:00:00"
         },
         {
          "link_id": 23,
          "rel_type": 23,
          "source": 23,
          "target": 23,
          "timestamp": "2015-03-16T00:00:00"
         },
         {
          "link_id": 10,
          "rel_type": 10,
          "source": 10,
          "target": 10,
          "timestamp": "2015-03-23T00:00:00"
         },
         {
          "link_id": 36,
          "rel_type": 36,
          "source": 36,
          "target": 36,
          "timestamp": "2015-03-30T00:00:00"
         },
         {
          "link_id": 3,
          "rel_type": 3,
          "source": 3,
          "target": 3,
          "timestamp": "2015-04-06T00:00:00"
         },
         {
          "link_id": 19,
          "rel_type": 19,
          "source": 19,
          "target": 19,
          "timestamp": "2015-04-13T00:00:00"
         },
         {
          "link_id": 26,
          "rel_type": 26,
          "source": 26,
          "target": 26,
          "timestamp": "2015-04-20T00:00:00"
         },
         {
          "link_id": 25,
          "rel_type": 25,
          "source": 25,
          "target": 25,
          "timestamp": "2015-04-27T00:00:00"
         },
         {
          "link_id": 8,
          "rel_type": 8,
          "source": 8,
          "target": 8,
          "timestamp": "2015-05-04T00:00:00"
         },
         {
          "link_id": 20,
          "rel_type": 20,
          "source": 20,
          "target": 20,
          "timestamp": "2015-05-11T00:00:00"
         },
         {
          "link_id": 17,
          "rel_type": 17,
          "source": 17,
          "target": 17,
          "timestamp": "2015-05-18T00:00:00"
         },
         {
          "link_id": 9,
          "rel_type": 9,
          "source": 9,
          "target": 9,
          "timestamp": "2015-05-25T00:00:00"
         },
         {
          "link_id": 4,
          "rel_type": 4,
          "source": 4,
          "target": 4,
          "timestamp": "2015-06-01T00:00:00"
         },
         {
          "link_id": 50,
          "rel_type": 50,
          "source": 50,
          "target": 50,
          "timestamp": "2015-06-08T00:00:00"
         },
         {
          "link_id": 42,
          "rel_type": 42,
          "source": 42,
          "target": 42,
          "timestamp": "2015-06-15T00:00:00"
         },
         {
          "link_id": 76,
          "rel_type": 76,
          "source": 76,
          "target": 76,
          "timestamp": "2015-06-22T00:00:00"
         },
         {
          "link_id": 44,
          "rel_type": 44,
          "source": 44,
          "target": 44,
          "timestamp": "2015-06-29T00:00:00"
         },
         {
          "link_id": 25,
          "rel_type": 25,
          "source": 25,
          "target": 25,
          "timestamp": "2015-07-06T00:00:00"
         },
         {
          "link_id": 72,
          "rel_type": 72,
          "source": 72,
          "target": 72,
          "timestamp": "2015-07-13T00:00:00"
         },
         {
          "link_id": 30,
          "rel_type": 30,
          "source": 30,
          "target": 30,
          "timestamp": "2015-07-20T00:00:00"
         },
         {
          "link_id": 13,
          "rel_type": 13,
          "source": 13,
          "target": 13,
          "timestamp": "2015-07-27T00:00:00"
         },
         {
          "link_id": 21,
          "rel_type": 21,
          "source": 21,
          "target": 21,
          "timestamp": "2015-08-03T00:00:00"
         },
         {
          "link_id": 18,
          "rel_type": 18,
          "source": 18,
          "target": 18,
          "timestamp": "2015-08-10T00:00:00"
         },
         {
          "link_id": 34,
          "rel_type": 34,
          "source": 34,
          "target": 34,
          "timestamp": "2015-08-17T00:00:00"
         },
         {
          "link_id": 49,
          "rel_type": 49,
          "source": 49,
          "target": 49,
          "timestamp": "2015-08-24T00:00:00"
         },
         {
          "link_id": 84,
          "rel_type": 84,
          "source": 84,
          "target": 84,
          "timestamp": "2015-08-31T00:00:00"
         },
         {
          "link_id": 135,
          "rel_type": 135,
          "source": 135,
          "target": 135,
          "timestamp": "2015-09-07T00:00:00"
         },
         {
          "link_id": 53,
          "rel_type": 53,
          "source": 53,
          "target": 53,
          "timestamp": "2015-09-14T00:00:00"
         },
         {
          "link_id": 54,
          "rel_type": 54,
          "source": 54,
          "target": 54,
          "timestamp": "2015-09-21T00:00:00"
         },
         {
          "link_id": 17,
          "rel_type": 17,
          "source": 17,
          "target": 17,
          "timestamp": "2015-09-28T00:00:00"
         },
         {
          "link_id": 1,
          "rel_type": 1,
          "source": 1,
          "target": 1,
          "timestamp": "2015-10-05T00:00:00"
         },
         {
          "link_id": 2,
          "rel_type": 2,
          "source": 2,
          "target": 2,
          "timestamp": "2015-10-12T00:00:00"
         },
         {
          "link_id": 16,
          "rel_type": 16,
          "source": 16,
          "target": 16,
          "timestamp": "2015-10-19T00:00:00"
         },
         {
          "link_id": 27,
          "rel_type": 27,
          "source": 27,
          "target": 27,
          "timestamp": "2015-10-26T00:00:00"
         },
         {
          "link_id": 48,
          "rel_type": 48,
          "source": 48,
          "target": 48,
          "timestamp": "2015-11-02T00:00:00"
         },
         {
          "link_id": 45,
          "rel_type": 45,
          "source": 45,
          "target": 45,
          "timestamp": "2015-11-09T00:00:00"
         },
         {
          "link_id": 38,
          "rel_type": 38,
          "source": 38,
          "target": 38,
          "timestamp": "2015-11-16T00:00:00"
         },
         {
          "link_id": 39,
          "rel_type": 39,
          "source": 39,
          "target": 39,
          "timestamp": "2015-11-23T00:00:00"
         },
         {
          "link_id": 27,
          "rel_type": 27,
          "source": 27,
          "target": 27,
          "timestamp": "2015-11-30T00:00:00"
         },
         {
          "link_id": 98,
          "rel_type": 98,
          "source": 98,
          "target": 98,
          "timestamp": "2015-12-07T00:00:00"
         },
         {
          "link_id": 47,
          "rel_type": 47,
          "source": 47,
          "target": 47,
          "timestamp": "2015-12-14T00:00:00"
         },
         {
          "link_id": 39,
          "rel_type": 39,
          "source": 39,
          "target": 39,
          "timestamp": "2015-12-21T00:00:00"
         },
         {
          "link_id": 13,
          "rel_type": 13,
          "source": 13,
          "target": 13,
          "timestamp": "2015-12-28T00:00:00"
         },
         {
          "link_id": 41,
          "rel_type": 41,
          "source": 41,
          "target": 41,
          "timestamp": "2016-01-04T00:00:00"
         },
         {
          "link_id": 69,
          "rel_type": 69,
          "source": 69,
          "target": 69,
          "timestamp": "2016-01-11T00:00:00"
         },
         {
          "link_id": 29,
          "rel_type": 29,
          "source": 29,
          "target": 29,
          "timestamp": "2016-01-18T00:00:00"
         },
         {
          "link_id": 54,
          "rel_type": 54,
          "source": 54,
          "target": 54,
          "timestamp": "2016-01-25T00:00:00"
         },
         {
          "link_id": 28,
          "rel_type": 28,
          "source": 28,
          "target": 28,
          "timestamp": "2016-02-01T00:00:00"
         },
         {
          "link_id": 68,
          "rel_type": 68,
          "source": 68,
          "target": 68,
          "timestamp": "2016-02-08T00:00:00"
         },
         {
          "link_id": 56,
          "rel_type": 56,
          "source": 56,
          "target": 56,
          "timestamp": "2016-02-15T00:00:00"
         },
         {
          "link_id": 30,
          "rel_type": 30,
          "source": 30,
          "target": 30,
          "timestamp": "2016-02-22T00:00:00"
         },
         {
          "link_id": 41,
          "rel_type": 41,
          "source": 41,
          "target": 41,
          "timestamp": "2016-02-29T00:00:00"
         },
         {
          "link_id": 53,
          "rel_type": 53,
          "source": 53,
          "target": 53,
          "timestamp": "2016-03-07T00:00:00"
         },
         {
          "link_id": 50,
          "rel_type": 50,
          "source": 50,
          "target": 50,
          "timestamp": "2016-03-14T00:00:00"
         },
         {
          "link_id": 133,
          "rel_type": 133,
          "source": 133,
          "target": 133,
          "timestamp": "2016-03-21T00:00:00"
         },
         {
          "link_id": 11,
          "rel_type": 11,
          "source": 11,
          "target": 11,
          "timestamp": "2016-03-28T00:00:00"
         },
         {
          "link_id": 67,
          "rel_type": 67,
          "source": 67,
          "target": 67,
          "timestamp": "2016-04-04T00:00:00"
         },
         {
          "link_id": 98,
          "rel_type": 98,
          "source": 98,
          "target": 98,
          "timestamp": "2016-04-11T00:00:00"
         },
         {
          "link_id": 201,
          "rel_type": 201,
          "source": 201,
          "target": 201,
          "timestamp": "2016-04-18T00:00:00"
         },
         {
          "link_id": 116,
          "rel_type": 116,
          "source": 116,
          "target": 116,
          "timestamp": "2016-04-25T00:00:00"
         },
         {
          "link_id": 91,
          "rel_type": 91,
          "source": 91,
          "target": 91,
          "timestamp": "2016-05-02T00:00:00"
         },
         {
          "link_id": 62,
          "rel_type": 62,
          "source": 62,
          "target": 62,
          "timestamp": "2016-05-09T00:00:00"
         },
         {
          "link_id": 98,
          "rel_type": 98,
          "source": 98,
          "target": 98,
          "timestamp": "2016-05-16T00:00:00"
         },
         {
          "link_id": 39,
          "rel_type": 39,
          "source": 39,
          "target": 39,
          "timestamp": "2016-05-23T00:00:00"
         },
         {
          "link_id": 54,
          "rel_type": 54,
          "source": 54,
          "target": 54,
          "timestamp": "2016-05-30T00:00:00"
         },
         {
          "link_id": 71,
          "rel_type": 71,
          "source": 71,
          "target": 71,
          "timestamp": "2016-06-06T00:00:00"
         },
         {
          "link_id": 98,
          "rel_type": 98,
          "source": 98,
          "target": 98,
          "timestamp": "2016-06-13T00:00:00"
         },
         {
          "link_id": 193,
          "rel_type": 193,
          "source": 193,
          "target": 193,
          "timestamp": "2016-06-20T00:00:00"
         },
         {
          "link_id": 109,
          "rel_type": 109,
          "source": 109,
          "target": 109,
          "timestamp": "2016-06-27T00:00:00"
         },
         {
          "link_id": 112,
          "rel_type": 112,
          "source": 112,
          "target": 112,
          "timestamp": "2016-07-04T00:00:00"
         },
         {
          "link_id": 71,
          "rel_type": 71,
          "source": 71,
          "target": 71,
          "timestamp": "2016-07-11T00:00:00"
         },
         {
          "link_id": 67,
          "rel_type": 67,
          "source": 67,
          "target": 67,
          "timestamp": "2016-07-18T00:00:00"
         },
         {
          "link_id": 25,
          "rel_type": 25,
          "source": 25,
          "target": 25,
          "timestamp": "2016-07-25T00:00:00"
         },
         {
          "link_id": 29,
          "rel_type": 29,
          "source": 29,
          "target": 29,
          "timestamp": "2016-08-01T00:00:00"
         },
         {
          "link_id": 13,
          "rel_type": 13,
          "source": 13,
          "target": 13,
          "timestamp": "2016-08-08T00:00:00"
         },
         {
          "link_id": 21,
          "rel_type": 21,
          "source": 21,
          "target": 21,
          "timestamp": "2016-08-15T00:00:00"
         },
         {
          "link_id": 6,
          "rel_type": 6,
          "source": 6,
          "target": 6,
          "timestamp": "2016-08-22T00:00:00"
         },
         {
          "link_id": 48,
          "rel_type": 48,
          "source": 48,
          "target": 48,
          "timestamp": "2016-08-29T00:00:00"
         },
         {
          "link_id": 17,
          "rel_type": 17,
          "source": 17,
          "target": 17,
          "timestamp": "2016-09-05T00:00:00"
         },
         {
          "link_id": 33,
          "rel_type": 33,
          "source": 33,
          "target": 33,
          "timestamp": "2016-09-12T00:00:00"
         },
         {
          "link_id": 12,
          "rel_type": 12,
          "source": 12,
          "target": 12,
          "timestamp": "2016-09-19T00:00:00"
         },
         {
          "link_id": 13,
          "rel_type": 13,
          "source": 13,
          "target": 13,
          "timestamp": "2016-09-26T00:00:00"
         },
         {
          "link_id": 12,
          "rel_type": 12,
          "source": 12,
          "target": 12,
          "timestamp": "2016-10-03T00:00:00"
         },
         {
          "link_id": 21,
          "rel_type": 21,
          "source": 21,
          "target": 21,
          "timestamp": "2016-10-10T00:00:00"
         },
         {
          "link_id": 9,
          "rel_type": 9,
          "source": 9,
          "target": 9,
          "timestamp": "2016-10-17T00:00:00"
         },
         {
          "link_id": 27,
          "rel_type": 27,
          "source": 27,
          "target": 27,
          "timestamp": "2016-10-24T00:00:00"
         },
         {
          "link_id": 39,
          "rel_type": 39,
          "source": 39,
          "target": 39,
          "timestamp": "2016-10-31T00:00:00"
         },
         {
          "link_id": 25,
          "rel_type": 25,
          "source": 25,
          "target": 25,
          "timestamp": "2016-11-07T00:00:00"
         },
         {
          "link_id": 53,
          "rel_type": 53,
          "source": 53,
          "target": 53,
          "timestamp": "2016-11-14T00:00:00"
         },
         {
          "link_id": 45,
          "rel_type": 45,
          "source": 45,
          "target": 45,
          "timestamp": "2016-11-21T00:00:00"
         },
         {
          "link_id": 68,
          "rel_type": 68,
          "source": 68,
          "target": 68,
          "timestamp": "2016-11-28T00:00:00"
         },
         {
          "link_id": 50,
          "rel_type": 50,
          "source": 50,
          "target": 50,
          "timestamp": "2016-12-05T00:00:00"
         },
         {
          "link_id": 34,
          "rel_type": 34,
          "source": 34,
          "target": 34,
          "timestamp": "2016-12-12T00:00:00"
         },
         {
          "link_id": 40,
          "rel_type": 40,
          "source": 40,
          "target": 40,
          "timestamp": "2016-12-19T00:00:00"
         },
         {
          "link_id": 8,
          "rel_type": 8,
          "source": 8,
          "target": 8,
          "timestamp": "2016-12-26T00:00:00"
         },
         {
          "link_id": 21,
          "rel_type": 21,
          "source": 21,
          "target": 21,
          "timestamp": "2017-01-02T00:00:00"
         },
         {
          "link_id": 46,
          "rel_type": 46,
          "source": 46,
          "target": 46,
          "timestamp": "2017-01-09T00:00:00"
         },
         {
          "link_id": 152,
          "rel_type": 152,
          "source": 152,
          "target": 152,
          "timestamp": "2017-01-16T00:00:00"
         },
         {
          "link_id": 106,
          "rel_type": 106,
          "source": 106,
          "target": 106,
          "timestamp": "2017-01-23T00:00:00"
         },
         {
          "link_id": 61,
          "rel_type": 61,
          "source": 61,
          "target": 61,
          "timestamp": "2017-01-30T00:00:00"
         },
         {
          "link_id": 31,
          "rel_type": 31,
          "source": 31,
          "target": 31,
          "timestamp": "2017-02-06T00:00:00"
         },
         {
          "link_id": 56,
          "rel_type": 56,
          "source": 56,
          "target": 56,
          "timestamp": "2017-02-13T00:00:00"
         },
         {
          "link_id": 65,
          "rel_type": 65,
          "source": 65,
          "target": 65,
          "timestamp": "2017-02-20T00:00:00"
         },
         {
          "link_id": 52,
          "rel_type": 52,
          "source": 52,
          "target": 52,
          "timestamp": "2017-02-27T00:00:00"
         },
         {
          "link_id": 66,
          "rel_type": 66,
          "source": 66,
          "target": 66,
          "timestamp": "2017-03-06T00:00:00"
         },
         {
          "link_id": 50,
          "rel_type": 50,
          "source": 50,
          "target": 50,
          "timestamp": "2017-03-13T00:00:00"
         },
         {
          "link_id": 22,
          "rel_type": 22,
          "source": 22,
          "target": 22,
          "timestamp": "2017-03-20T00:00:00"
         },
         {
          "link_id": 42,
          "rel_type": 42,
          "source": 42,
          "target": 42,
          "timestamp": "2017-03-27T00:00:00"
         },
         {
          "link_id": 15,
          "rel_type": 15,
          "source": 15,
          "target": 15,
          "timestamp": "2017-04-03T00:00:00"
         },
         {
          "link_id": 13,
          "rel_type": 13,
          "source": 13,
          "target": 13,
          "timestamp": "2017-04-10T00:00:00"
         },
         {
          "link_id": 8,
          "rel_type": 8,
          "source": 8,
          "target": 8,
          "timestamp": "2017-04-17T00:00:00"
         },
         {
          "link_id": 25,
          "rel_type": 25,
          "source": 25,
          "target": 25,
          "timestamp": "2017-04-24T00:00:00"
         },
         {
          "link_id": 27,
          "rel_type": 27,
          "source": 27,
          "target": 27,
          "timestamp": "2017-05-01T00:00:00"
         },
         {
          "link_id": 63,
          "rel_type": 63,
          "source": 63,
          "target": 63,
          "timestamp": "2017-05-08T00:00:00"
         },
         {
          "link_id": 42,
          "rel_type": 42,
          "source": 42,
          "target": 42,
          "timestamp": "2017-05-15T00:00:00"
         },
         {
          "link_id": 28,
          "rel_type": 28,
          "source": 28,
          "target": 28,
          "timestamp": "2017-05-22T00:00:00"
         },
         {
          "link_id": 63,
          "rel_type": 63,
          "source": 63,
          "target": 63,
          "timestamp": "2017-05-29T00:00:00"
         },
         {
          "link_id": 44,
          "rel_type": 44,
          "source": 44,
          "target": 44,
          "timestamp": "2017-06-05T00:00:00"
         },
         {
          "link_id": 47,
          "rel_type": 47,
          "source": 47,
          "target": 47,
          "timestamp": "2017-06-12T00:00:00"
         },
         {
          "link_id": 29,
          "rel_type": 29,
          "source": 29,
          "target": 29,
          "timestamp": "2017-06-19T00:00:00"
         },
         {
          "link_id": 45,
          "rel_type": 45,
          "source": 45,
          "target": 45,
          "timestamp": "2017-06-26T00:00:00"
         },
         {
          "link_id": 44,
          "rel_type": 44,
          "source": 44,
          "target": 44,
          "timestamp": "2017-07-03T00:00:00"
         },
         {
          "link_id": 25,
          "rel_type": 25,
          "source": 25,
          "target": 25,
          "timestamp": "2017-07-10T00:00:00"
         },
         {
          "link_id": 18,
          "rel_type": 18,
          "source": 18,
          "target": 18,
          "timestamp": "2017-07-17T00:00:00"
         },
         {
          "link_id": 23,
          "rel_type": 23,
          "source": 23,
          "target": 23,
          "timestamp": "2017-07-24T00:00:00"
         },
         {
          "link_id": 5,
          "rel_type": 5,
          "source": 5,
          "target": 5,
          "timestamp": "2017-07-31T00:00:00"
         },
         {
          "link_id": 3,
          "rel_type": 3,
          "source": 3,
          "target": 3,
          "timestamp": "2017-08-07T00:00:00"
         },
         {
          "link_id": 17,
          "rel_type": 17,
          "source": 17,
          "target": 17,
          "timestamp": "2017-08-14T00:00:00"
         },
         {
          "link_id": 9,
          "rel_type": 9,
          "source": 9,
          "target": 9,
          "timestamp": "2017-08-21T00:00:00"
         },
         {
          "link_id": 93,
          "rel_type": 93,
          "source": 93,
          "target": 93,
          "timestamp": "2017-08-28T00:00:00"
         },
         {
          "link_id": 36,
          "rel_type": 36,
          "source": 36,
          "target": 36,
          "timestamp": "2017-09-04T00:00:00"
         }
        ]
       },
       "encoding": {
        "x": {
         "field": "timestamp",
         "type": "temporal"
        },
        "y": {
         "field": "rel_type",
         "type": "quantitative"
        }
       },
       "mark": "line"
      },
      "image/png": "[encoded data removed]",
      "text/plain": [
       "<VegaLite 3 object>\n",
       "\n",
       "If you see this message, it means the renderer has not been properly enabled\n",
       "for the frontend that you are using. For more information, see\n",
       "https://altair-viz.github.io/user_guide/troubleshooting.html\n"
      ]
     },
     "execution_count": 9,
     "metadata": {},
     "output_type": "execute_result"
    }
   ],
   "source": [
    "linksChart"
   ]
  },
  {
   "cell_type": "code",
   "execution_count": 10,
   "metadata": {
    "Collapsed": "false"
   },
   "outputs": [
    {
     "data": {
      "text/html": [
       "<div>\n",
       "<style scoped>\n",
       "    .dataframe tbody tr th:only-of-type {\n",
       "        vertical-align: middle;\n",
       "    }\n",
       "\n",
       "    .dataframe tbody tr th {\n",
       "        vertical-align: top;\n",
       "    }\n",
       "\n",
       "    .dataframe thead th {\n",
       "        text-align: right;\n",
       "    }\n",
       "</style>\n",
       "<table border=\"1\" class=\"dataframe\">\n",
       "  <thead>\n",
       "    <tr style=\"text-align: right;\">\n",
       "      <th></th>\n",
       "      <th>timestamp</th>\n",
       "      <th>target</th>\n",
       "      <th>source</th>\n",
       "      <th>rel_type</th>\n",
       "      <th>link_id</th>\n",
       "    </tr>\n",
       "  </thead>\n",
       "  <tbody>\n",
       "    <tr>\n",
       "      <td>0</td>\n",
       "      <td>2016-07-01</td>\n",
       "      <td>925982</td>\n",
       "      <td>960478</td>\n",
       "      <td>ContextualReply</td>\n",
       "      <td>18317343</td>\n",
       "    </tr>\n",
       "    <tr>\n",
       "      <td>1</td>\n",
       "      <td>2016-05-27</td>\n",
       "      <td>945185</td>\n",
       "      <td>960478</td>\n",
       "      <td>ContextualReply</td>\n",
       "      <td>18317321</td>\n",
       "    </tr>\n",
       "    <tr>\n",
       "      <td>2</td>\n",
       "      <td>2016-07-05</td>\n",
       "      <td>925982</td>\n",
       "      <td>960478</td>\n",
       "      <td>ContextualReply</td>\n",
       "      <td>18317346</td>\n",
       "    </tr>\n",
       "    <tr>\n",
       "      <td>3</td>\n",
       "      <td>2016-07-05</td>\n",
       "      <td>925982</td>\n",
       "      <td>960478</td>\n",
       "      <td>ContextualReply</td>\n",
       "      <td>18317344</td>\n",
       "    </tr>\n",
       "    <tr>\n",
       "      <td>4</td>\n",
       "      <td>2016-05-26</td>\n",
       "      <td>960478</td>\n",
       "      <td>945185</td>\n",
       "      <td>first_reply</td>\n",
       "      <td>21307105</td>\n",
       "    </tr>\n",
       "  </tbody>\n",
       "</table>\n",
       "</div>"
      ],
      "text/plain": [
       "   timestamp  target  source         rel_type   link_id\n",
       "0 2016-07-01  925982  960478  ContextualReply  18317343\n",
       "1 2016-05-27  945185  960478  ContextualReply  18317321\n",
       "2 2016-07-05  925982  960478  ContextualReply  18317346\n",
       "3 2016-07-05  925982  960478  ContextualReply  18317344\n",
       "4 2016-05-26  960478  945185      first_reply  21307105"
      ]
     },
     "execution_count": 10,
     "metadata": {},
     "output_type": "execute_result"
    }
   ],
   "source": [
    "links.head()"
   ]
  },
  {
   "cell_type": "code",
   "execution_count": 24,
   "metadata": {
    "Collapsed": "false"
   },
   "outputs": [
    {
     "data": {
      "text/plain": [
       "27"
      ]
     },
     "execution_count": 24,
     "metadata": {},
     "output_type": "execute_result"
    }
   ],
   "source": [
    "len(links.loc[links.timestamp == \"2016-07-01\"])"
   ]
  },
  {
   "cell_type": "code",
   "execution_count": 19,
   "metadata": {
    "Collapsed": "false"
   },
   "outputs": [],
   "source": [
    "adjusted = adjustLinkDates(data)"
   ]
  },
  {
   "cell_type": "code",
   "execution_count": 26,
   "metadata": {
    "Collapsed": "false"
   },
   "outputs": [
    {
     "data": {
      "text/plain": [
       "99"
      ]
     },
     "execution_count": 26,
     "metadata": {},
     "output_type": "execute_result"
    }
   ],
   "source": [
    "len(adjusted.loc[adjusted.timestamp == \"2016-06-27\"])"
   ]
  },
  {
   "cell_type": "code",
   "execution_count": 23,
   "metadata": {
    "Collapsed": "false"
   },
   "outputs": [
    {
     "data": {
      "text/html": [
       "<div>\n",
       "<style scoped>\n",
       "    .dataframe tbody tr th:only-of-type {\n",
       "        vertical-align: middle;\n",
       "    }\n",
       "\n",
       "    .dataframe tbody tr th {\n",
       "        vertical-align: top;\n",
       "    }\n",
       "\n",
       "    .dataframe thead th {\n",
       "        text-align: right;\n",
       "    }\n",
       "</style>\n",
       "<table border=\"1\" class=\"dataframe\">\n",
       "  <thead>\n",
       "    <tr style=\"text-align: right;\">\n",
       "      <th></th>\n",
       "      <th>timestamp</th>\n",
       "      <th>target</th>\n",
       "      <th>source</th>\n",
       "      <th>rel_type</th>\n",
       "      <th>link_id</th>\n",
       "    </tr>\n",
       "  </thead>\n",
       "  <tbody>\n",
       "    <tr>\n",
       "      <td>0</td>\n",
       "      <td>2016-06-27</td>\n",
       "      <td>925982</td>\n",
       "      <td>960478</td>\n",
       "      <td>ContextualReply</td>\n",
       "      <td>18317343</td>\n",
       "    </tr>\n",
       "    <tr>\n",
       "      <td>1</td>\n",
       "      <td>2016-05-23</td>\n",
       "      <td>945185</td>\n",
       "      <td>960478</td>\n",
       "      <td>ContextualReply</td>\n",
       "      <td>18317321</td>\n",
       "    </tr>\n",
       "    <tr>\n",
       "      <td>2</td>\n",
       "      <td>2016-07-04</td>\n",
       "      <td>925982</td>\n",
       "      <td>960478</td>\n",
       "      <td>ContextualReply</td>\n",
       "      <td>18317346</td>\n",
       "    </tr>\n",
       "    <tr>\n",
       "      <td>3</td>\n",
       "      <td>2016-07-04</td>\n",
       "      <td>925982</td>\n",
       "      <td>960478</td>\n",
       "      <td>ContextualReply</td>\n",
       "      <td>18317344</td>\n",
       "    </tr>\n",
       "    <tr>\n",
       "      <td>4</td>\n",
       "      <td>2016-05-23</td>\n",
       "      <td>960478</td>\n",
       "      <td>945185</td>\n",
       "      <td>first_reply</td>\n",
       "      <td>21307105</td>\n",
       "    </tr>\n",
       "  </tbody>\n",
       "</table>\n",
       "</div>"
      ],
      "text/plain": [
       "    timestamp  target  source         rel_type   link_id\n",
       "0  2016-06-27  925982  960478  ContextualReply  18317343\n",
       "1  2016-05-23  945185  960478  ContextualReply  18317321\n",
       "2  2016-07-04  925982  960478  ContextualReply  18317346\n",
       "3  2016-07-04  925982  960478  ContextualReply  18317344\n",
       "4  2016-05-23  960478  945185      first_reply  21307105"
      ]
     },
     "execution_count": 23,
     "metadata": {},
     "output_type": "execute_result"
    }
   ],
   "source": [
    "adjusted.head()"
   ]
  },
  {
   "cell_type": "code",
   "execution_count": 158,
   "metadata": {
    "Collapsed": "false"
   },
   "outputs": [],
   "source": [
    "file = 'viz_Tribler.json'\n",
    "with open(os.path.join('./original_data/', file)) as f:\n",
    "    data = json.load(f)"
   ]
  },
  {
   "cell_type": "code",
   "execution_count": 159,
   "metadata": {
    "Collapsed": "false"
   },
   "outputs": [],
   "source": [
    "test= pd.DataFrame.from_dict(data['modularity'], orient='index').sort_index().reset_index()\n",
    "test.columns = ['timestamp','modularity']\n",
    "test.timestamp = pd.to_datetime(test.timestamp)"
   ]
  },
  {
   "cell_type": "code",
   "execution_count": 163,
   "metadata": {
    "Collapsed": "false"
   },
   "outputs": [],
   "source": [
    "test.timestamp = test.timestamp.apply(lambda x: x - pd.Timedelta(x.isoweekday()-1, unit='D'))\n",
    "test.timestamp = test.timestamp.strftime()\n",
    "test = test.set_index('timestamp')"
   ]
  },
  {
   "cell_type": "code",
   "execution_count": 164,
   "metadata": {
    "Collapsed": "false"
   },
   "outputs": [
    {
     "data": {
      "text/html": [
       "<div>\n",
       "<style scoped>\n",
       "    .dataframe tbody tr th:only-of-type {\n",
       "        vertical-align: middle;\n",
       "    }\n",
       "\n",
       "    .dataframe tbody tr th {\n",
       "        vertical-align: top;\n",
       "    }\n",
       "\n",
       "    .dataframe thead th {\n",
       "        text-align: right;\n",
       "    }\n",
       "</style>\n",
       "<table border=\"1\" class=\"dataframe\">\n",
       "  <thead>\n",
       "    <tr style=\"text-align: right;\">\n",
       "      <th></th>\n",
       "      <th>modularity</th>\n",
       "    </tr>\n",
       "    <tr>\n",
       "      <th>timestamp</th>\n",
       "      <th></th>\n",
       "    </tr>\n",
       "  </thead>\n",
       "  <tbody>\n",
       "    <tr>\n",
       "      <td>2015-01-05</td>\n",
       "      <td>0.180000</td>\n",
       "    </tr>\n",
       "    <tr>\n",
       "      <td>2015-01-12</td>\n",
       "      <td>-0.044983</td>\n",
       "    </tr>\n",
       "    <tr>\n",
       "      <td>2015-01-19</td>\n",
       "      <td>-0.131380</td>\n",
       "    </tr>\n",
       "    <tr>\n",
       "      <td>2015-01-26</td>\n",
       "      <td>-0.011285</td>\n",
       "    </tr>\n",
       "    <tr>\n",
       "      <td>2015-02-02</td>\n",
       "      <td>-0.009642</td>\n",
       "    </tr>\n",
       "  </tbody>\n",
       "</table>\n",
       "</div>"
      ],
      "text/plain": [
       "            modularity\n",
       "timestamp             \n",
       "2015-01-05    0.180000\n",
       "2015-01-12   -0.044983\n",
       "2015-01-19   -0.131380\n",
       "2015-01-26   -0.011285\n",
       "2015-02-02   -0.009642"
      ]
     },
     "execution_count": 164,
     "metadata": {},
     "output_type": "execute_result"
    }
   ],
   "source": [
    "test.head()"
   ]
  },
  {
   "cell_type": "code",
   "execution_count": 108,
   "metadata": {
    "Collapsed": "false"
   },
   "outputs": [
    {
     "data": {
      "text/plain": [
       "{'2016-03-04': 0.04060807996668054,\n",
       " '2017-02-24': 0.15928460743801645,\n",
       " '2017-06-23': 0.22502162629757788,\n",
       " '2016-07-15': -0.04043216752060596,\n",
       " '2016-09-30': 0.20064899945916712,\n",
       " '2017-02-17': 0.13795835219556363,\n",
       " '2016-12-23': 0.07805990874826423,\n",
       " '2015-08-14': 0.061983471074380125,\n",
       " '2015-02-20': -0.02897923875432523,\n",
       " '2017-05-05': 0.23313625369524318,\n",
       " '2017-06-09': 0.17586293776769962,\n",
       " '2016-01-22': -0.014739229024943318,\n",
       " '2017-03-17': 0.16006520951575898,\n",
       " '2015-01-30': -0.011284722222222286,\n",
       " '2016-05-06': 0.09795918367346937,\n",
       " '2017-02-10': 0.17191043083900223,\n",
       " '2015-01-09': 0.18,\n",
       " '2015-12-04': 0.04110046781020266,\n",
       " '2016-04-01': 0.12316345270890725,\n",
       " '2017-05-19': 0.20755385487528344,\n",
       " '2015-11-20': 0.040939836240655045,\n",
       " '2015-04-17': 0.16077003121748182,\n",
       " '2017-03-31': 0.1471875,\n",
       " '2016-11-25': 0.11246768170066074,\n",
       " '2017-06-30': 0.3011998685075608,\n",
       " '2016-12-16': 0.07873519778281682,\n",
       " '2016-11-04': 0.16033601168736306,\n",
       " '2015-05-15': 0.020000000000000018,\n",
       " '2015-04-03': -0.17631172839506176,\n",
       " '2015-11-06': -0.06475069252077557,\n",
       " '2015-05-01': 0.04663923182441703,\n",
       " '2015-10-30': -0.07618343195266275,\n",
       " '2016-01-29': -0.06365740740740741,\n",
       " '2015-02-06': -0.009641873278236915,\n",
       " '2015-06-12': -0.03722222222222216,\n",
       " '2016-09-09': 0.18554768846314038,\n",
       " '2015-04-10': -0.00961538461538464,\n",
       " '2015-09-04': -0.09596893491124255,\n",
       " '2015-04-24': 0.09904844290657441,\n",
       " '2016-12-09': 0.14285714285714285,\n",
       " '2017-07-07': 0.28546129195479847,\n",
       " '2015-11-13': -0.0117999999999999,\n",
       " '2016-03-11': 0.04164413196322335,\n",
       " '2015-10-16': 0.20959999999999995,\n",
       " '2015-07-17': -0.12278876170655567,\n",
       " '2016-08-05': -0.1534777176176593,\n",
       " '2015-12-11': 0.04689240365337494,\n",
       " '2017-07-28': 0.21449704142011833,\n",
       " '2015-03-13': -0.07833333333333338,\n",
       " '2016-07-08': 0.02017264027021955,\n",
       " '2016-06-10': -0.0031404958677686,\n",
       " '2015-12-25': 0.07470703125,\n",
       " '2017-08-04': 0.13425925925925924,\n",
       " '2016-08-19': -0.07050619834710736,\n",
       " '2015-03-06': -0.06897959183673474,\n",
       " '2016-02-05': -0.047812499999999966,\n",
       " '2017-04-21': 0.0416666666666666,\n",
       " '2016-10-28': 0.19333910034602078,\n",
       " '2016-01-15': 0.00567874526771231,\n",
       " '2015-07-24': -0.1383333333333334,\n",
       " '2017-01-20': 0.21933884297520662,\n",
       " '2016-10-07': 0.15718749999999998,\n",
       " '2015-11-27': 0.010204081632653031,\n",
       " '2015-07-31': -0.095703125,\n",
       " '2017-01-06': 0.12379853902345253,\n",
       " '2016-04-08': 0.08219178082191783,\n",
       " '2017-04-28': 0.1638905413444378,\n",
       " '2015-06-19': -0.1392,\n",
       " '2016-07-01': 0.000710059171597624,\n",
       " '2016-01-08': 0.07084371662513353,\n",
       " '2015-09-25': -0.03859999999999994,\n",
       " '2015-05-29': 0.06163194444444446,\n",
       " '2017-01-27': 0.13869612856099336,\n",
       " '2016-09-23': 0.16235764850723294,\n",
       " '2017-08-11': 0.0632,\n",
       " '2016-09-16': 0.14481378885811014,\n",
       " '2015-02-27': 1.3877787807814457e-17,\n",
       " '2015-10-23': 0.11224489795918366,\n",
       " '2015-03-27': -0.06751543209876545,\n",
       " '2016-04-15': 0.06321700277744238,\n",
       " '2016-03-25': 0.1276931916116059,\n",
       " '2016-04-29': 0.1493247922437673,\n",
       " '2016-05-20': 0.03341501447983958,\n",
       " '2015-12-18': -0.004147376543209874,\n",
       " '2017-05-12': 0.26765426598351527,\n",
       " '2016-10-21': 0.09670781893004116,\n",
       " '2015-02-13': -0.010802469135802531,\n",
       " '2017-03-03': 0.1777312060573283,\n",
       " '2016-06-03': 0.07860790110185434,\n",
       " '2015-08-07': -0.00439453125,\n",
       " '2017-07-21': 0.26977237654320985,\n",
       " '2017-08-25': 0.13579604578563992,\n",
       " '2016-08-26': 0.0626557493770025,\n",
       " '2016-07-29': -0.039861111111111104,\n",
       " '2016-02-26': 0.006562500000000013,\n",
       " '2016-02-12': 0.02432610124917814,\n",
       " '2017-06-16': 0.12532439446366783,\n",
       " '2016-03-18': 0.025312294543063753,\n",
       " '2016-09-02': 0.11294703485740148,\n",
       " '2016-10-14': 0.08122448979591837,\n",
       " '2015-10-09': 0.11285609934258584,\n",
       " '2015-01-23': -0.1313799621928166,\n",
       " '2016-08-12': -0.0496296296296296,\n",
       " '2017-01-13': 0.1859393579072533,\n",
       " '2017-06-02': 0.18146130427816054,\n",
       " '2016-12-02': 0.08012543252595157,\n",
       " '2016-11-18': 0.12419753086419758,\n",
       " '2015-08-21': 0.08035062089116143,\n",
       " '2017-04-07': 0.1667387543252595,\n",
       " '2017-02-03': 0.10817777777777779,\n",
       " '2016-02-19': 0.013749999999999998,\n",
       " '2015-06-26': -0.05291319857312724,\n",
       " '2015-07-10': 0.022857142857142895,\n",
       " '2016-11-11': 0.14162049861495846,\n",
       " '2015-05-22': 0.10850694444444445,\n",
       " '2015-08-28': 0.0004526935264825699,\n",
       " '2016-12-30': 0.06048387096774197,\n",
       " '2015-10-02': 0.04347826086956523,\n",
       " '2017-08-18': 0.07470414201183434,\n",
       " '2017-03-10': 0.16786703601108033,\n",
       " '2015-09-18': 0.03636363636363635,\n",
       " '2016-07-22': -0.018340270551508872,\n",
       " '2015-01-16': -0.04498269896193771,\n",
       " '2015-06-05': 0.0184,\n",
       " '2015-05-08': 0.044589774078478014,\n",
       " '2017-07-14': 0.3611212563915267,\n",
       " '2016-05-13': 0.11696510560146921,\n",
       " '2015-09-11': -0.01374427321949187,\n",
       " '2016-05-27': 0.016158818097876265,\n",
       " '2015-07-03': -0.00146484375,\n",
       " '2017-05-26': 0.18884316415180608,\n",
       " '2017-04-14': 0.08290289256198355,\n",
       " '2017-03-24': 0.1574266944399936,\n",
       " '2016-06-24': 0.0250244140625,\n",
       " '2016-06-17': -0.014865205341395793,\n",
       " '2016-01-01': 0.0684113865932048,\n",
       " '2016-04-22': 0.06653735874515097,\n",
       " '2015-03-20': -0.06106519742883376}"
      ]
     },
     "execution_count": 108,
     "metadata": {},
     "output_type": "execute_result"
    }
   ],
   "source": [
    "data['modularity']"
   ]
  },
  {
   "cell_type": "code",
   "execution_count": 165,
   "metadata": {
    "Collapsed": "false"
   },
   "outputs": [
    {
     "data": {
      "text/plain": [
       "{'modularity': {Timestamp('2015-01-05 00:00:00'): 0.18,\n",
       "  Timestamp('2015-01-12 00:00:00'): -0.04498269896193771,\n",
       "  Timestamp('2015-01-19 00:00:00'): -0.1313799621928166,\n",
       "  Timestamp('2015-01-26 00:00:00'): -0.011284722222222286,\n",
       "  Timestamp('2015-02-02 00:00:00'): -0.009641873278236915,\n",
       "  Timestamp('2015-02-09 00:00:00'): -0.010802469135802531,\n",
       "  Timestamp('2015-02-16 00:00:00'): -0.02897923875432523,\n",
       "  Timestamp('2015-02-23 00:00:00'): 1.3877787807814457e-17,\n",
       "  Timestamp('2015-03-02 00:00:00'): -0.06897959183673474,\n",
       "  Timestamp('2015-03-09 00:00:00'): -0.07833333333333338,\n",
       "  Timestamp('2015-03-16 00:00:00'): -0.06106519742883376,\n",
       "  Timestamp('2015-03-23 00:00:00'): -0.06751543209876545,\n",
       "  Timestamp('2015-03-30 00:00:00'): -0.17631172839506176,\n",
       "  Timestamp('2015-04-06 00:00:00'): -0.00961538461538464,\n",
       "  Timestamp('2015-04-13 00:00:00'): 0.16077003121748182,\n",
       "  Timestamp('2015-04-20 00:00:00'): 0.09904844290657441,\n",
       "  Timestamp('2015-04-27 00:00:00'): 0.04663923182441703,\n",
       "  Timestamp('2015-05-04 00:00:00'): 0.044589774078478014,\n",
       "  Timestamp('2015-05-11 00:00:00'): 0.020000000000000018,\n",
       "  Timestamp('2015-05-18 00:00:00'): 0.10850694444444445,\n",
       "  Timestamp('2015-05-25 00:00:00'): 0.06163194444444446,\n",
       "  Timestamp('2015-06-01 00:00:00'): 0.0184,\n",
       "  Timestamp('2015-06-08 00:00:00'): -0.03722222222222216,\n",
       "  Timestamp('2015-06-15 00:00:00'): -0.1392,\n",
       "  Timestamp('2015-06-22 00:00:00'): -0.05291319857312724,\n",
       "  Timestamp('2015-06-29 00:00:00'): -0.00146484375,\n",
       "  Timestamp('2015-07-06 00:00:00'): 0.022857142857142895,\n",
       "  Timestamp('2015-07-13 00:00:00'): -0.12278876170655567,\n",
       "  Timestamp('2015-07-20 00:00:00'): -0.1383333333333334,\n",
       "  Timestamp('2015-07-27 00:00:00'): -0.095703125,\n",
       "  Timestamp('2015-08-03 00:00:00'): -0.00439453125,\n",
       "  Timestamp('2015-08-10 00:00:00'): 0.061983471074380125,\n",
       "  Timestamp('2015-08-17 00:00:00'): 0.08035062089116143,\n",
       "  Timestamp('2015-08-24 00:00:00'): 0.0004526935264825699,\n",
       "  Timestamp('2015-08-31 00:00:00'): -0.09596893491124255,\n",
       "  Timestamp('2015-09-07 00:00:00'): -0.01374427321949187,\n",
       "  Timestamp('2015-09-14 00:00:00'): 0.03636363636363635,\n",
       "  Timestamp('2015-09-21 00:00:00'): -0.03859999999999994,\n",
       "  Timestamp('2015-09-28 00:00:00'): 0.04347826086956523,\n",
       "  Timestamp('2015-10-05 00:00:00'): 0.11285609934258584,\n",
       "  Timestamp('2015-10-12 00:00:00'): 0.20959999999999995,\n",
       "  Timestamp('2015-10-19 00:00:00'): 0.11224489795918366,\n",
       "  Timestamp('2015-10-26 00:00:00'): -0.07618343195266275,\n",
       "  Timestamp('2015-11-02 00:00:00'): -0.06475069252077557,\n",
       "  Timestamp('2015-11-09 00:00:00'): -0.0117999999999999,\n",
       "  Timestamp('2015-11-16 00:00:00'): 0.040939836240655045,\n",
       "  Timestamp('2015-11-23 00:00:00'): 0.010204081632653031,\n",
       "  Timestamp('2015-11-30 00:00:00'): 0.04110046781020266,\n",
       "  Timestamp('2015-12-07 00:00:00'): 0.04689240365337494,\n",
       "  Timestamp('2015-12-14 00:00:00'): -0.004147376543209874,\n",
       "  Timestamp('2015-12-21 00:00:00'): 0.07470703125,\n",
       "  Timestamp('2015-12-28 00:00:00'): 0.0684113865932048,\n",
       "  Timestamp('2016-01-04 00:00:00'): 0.07084371662513353,\n",
       "  Timestamp('2016-01-11 00:00:00'): 0.00567874526771231,\n",
       "  Timestamp('2016-01-18 00:00:00'): -0.014739229024943318,\n",
       "  Timestamp('2016-01-25 00:00:00'): -0.06365740740740741,\n",
       "  Timestamp('2016-02-01 00:00:00'): -0.047812499999999966,\n",
       "  Timestamp('2016-02-08 00:00:00'): 0.02432610124917814,\n",
       "  Timestamp('2016-02-15 00:00:00'): 0.013749999999999998,\n",
       "  Timestamp('2016-02-22 00:00:00'): 0.006562500000000013,\n",
       "  Timestamp('2016-02-29 00:00:00'): 0.04060807996668054,\n",
       "  Timestamp('2016-03-07 00:00:00'): 0.04164413196322335,\n",
       "  Timestamp('2016-03-14 00:00:00'): 0.025312294543063753,\n",
       "  Timestamp('2016-03-21 00:00:00'): 0.1276931916116059,\n",
       "  Timestamp('2016-03-28 00:00:00'): 0.12316345270890725,\n",
       "  Timestamp('2016-04-04 00:00:00'): 0.08219178082191783,\n",
       "  Timestamp('2016-04-11 00:00:00'): 0.06321700277744238,\n",
       "  Timestamp('2016-04-18 00:00:00'): 0.06653735874515097,\n",
       "  Timestamp('2016-04-25 00:00:00'): 0.1493247922437673,\n",
       "  Timestamp('2016-05-02 00:00:00'): 0.09795918367346937,\n",
       "  Timestamp('2016-05-09 00:00:00'): 0.11696510560146921,\n",
       "  Timestamp('2016-05-16 00:00:00'): 0.03341501447983958,\n",
       "  Timestamp('2016-05-23 00:00:00'): 0.016158818097876265,\n",
       "  Timestamp('2016-05-30 00:00:00'): 0.07860790110185434,\n",
       "  Timestamp('2016-06-06 00:00:00'): -0.0031404958677686,\n",
       "  Timestamp('2016-06-13 00:00:00'): -0.014865205341395793,\n",
       "  Timestamp('2016-06-20 00:00:00'): 0.0250244140625,\n",
       "  Timestamp('2016-06-27 00:00:00'): 0.000710059171597624,\n",
       "  Timestamp('2016-07-04 00:00:00'): 0.02017264027021955,\n",
       "  Timestamp('2016-07-11 00:00:00'): -0.04043216752060596,\n",
       "  Timestamp('2016-07-18 00:00:00'): -0.018340270551508872,\n",
       "  Timestamp('2016-07-25 00:00:00'): -0.039861111111111104,\n",
       "  Timestamp('2016-08-01 00:00:00'): -0.1534777176176593,\n",
       "  Timestamp('2016-08-08 00:00:00'): -0.0496296296296296,\n",
       "  Timestamp('2016-08-15 00:00:00'): -0.07050619834710736,\n",
       "  Timestamp('2016-08-22 00:00:00'): 0.0626557493770025,\n",
       "  Timestamp('2016-08-29 00:00:00'): 0.11294703485740148,\n",
       "  Timestamp('2016-09-05 00:00:00'): 0.18554768846314038,\n",
       "  Timestamp('2016-09-12 00:00:00'): 0.14481378885811014,\n",
       "  Timestamp('2016-09-19 00:00:00'): 0.16235764850723294,\n",
       "  Timestamp('2016-09-26 00:00:00'): 0.20064899945916712,\n",
       "  Timestamp('2016-10-03 00:00:00'): 0.15718749999999998,\n",
       "  Timestamp('2016-10-10 00:00:00'): 0.08122448979591837,\n",
       "  Timestamp('2016-10-17 00:00:00'): 0.09670781893004116,\n",
       "  Timestamp('2016-10-24 00:00:00'): 0.19333910034602078,\n",
       "  Timestamp('2016-10-31 00:00:00'): 0.16033601168736306,\n",
       "  Timestamp('2016-11-07 00:00:00'): 0.14162049861495846,\n",
       "  Timestamp('2016-11-14 00:00:00'): 0.12419753086419758,\n",
       "  Timestamp('2016-11-21 00:00:00'): 0.11246768170066074,\n",
       "  Timestamp('2016-11-28 00:00:00'): 0.08012543252595157,\n",
       "  Timestamp('2016-12-05 00:00:00'): 0.14285714285714285,\n",
       "  Timestamp('2016-12-12 00:00:00'): 0.07873519778281682,\n",
       "  Timestamp('2016-12-19 00:00:00'): 0.07805990874826423,\n",
       "  Timestamp('2016-12-26 00:00:00'): 0.06048387096774197,\n",
       "  Timestamp('2017-01-02 00:00:00'): 0.12379853902345253,\n",
       "  Timestamp('2017-01-09 00:00:00'): 0.1859393579072533,\n",
       "  Timestamp('2017-01-16 00:00:00'): 0.21933884297520662,\n",
       "  Timestamp('2017-01-23 00:00:00'): 0.13869612856099336,\n",
       "  Timestamp('2017-01-30 00:00:00'): 0.10817777777777779,\n",
       "  Timestamp('2017-02-06 00:00:00'): 0.17191043083900223,\n",
       "  Timestamp('2017-02-13 00:00:00'): 0.13795835219556363,\n",
       "  Timestamp('2017-02-20 00:00:00'): 0.15928460743801645,\n",
       "  Timestamp('2017-02-27 00:00:00'): 0.1777312060573283,\n",
       "  Timestamp('2017-03-06 00:00:00'): 0.16786703601108033,\n",
       "  Timestamp('2017-03-13 00:00:00'): 0.16006520951575898,\n",
       "  Timestamp('2017-03-20 00:00:00'): 0.1574266944399936,\n",
       "  Timestamp('2017-03-27 00:00:00'): 0.1471875,\n",
       "  Timestamp('2017-04-03 00:00:00'): 0.1667387543252595,\n",
       "  Timestamp('2017-04-10 00:00:00'): 0.08290289256198355,\n",
       "  Timestamp('2017-04-17 00:00:00'): 0.0416666666666666,\n",
       "  Timestamp('2017-04-24 00:00:00'): 0.1638905413444378,\n",
       "  Timestamp('2017-05-01 00:00:00'): 0.23313625369524318,\n",
       "  Timestamp('2017-05-08 00:00:00'): 0.26765426598351527,\n",
       "  Timestamp('2017-05-15 00:00:00'): 0.20755385487528344,\n",
       "  Timestamp('2017-05-22 00:00:00'): 0.18884316415180608,\n",
       "  Timestamp('2017-05-29 00:00:00'): 0.18146130427816054,\n",
       "  Timestamp('2017-06-05 00:00:00'): 0.17586293776769962,\n",
       "  Timestamp('2017-06-12 00:00:00'): 0.12532439446366783,\n",
       "  Timestamp('2017-06-19 00:00:00'): 0.22502162629757788,\n",
       "  Timestamp('2017-06-26 00:00:00'): 0.3011998685075608,\n",
       "  Timestamp('2017-07-03 00:00:00'): 0.28546129195479847,\n",
       "  Timestamp('2017-07-10 00:00:00'): 0.3611212563915267,\n",
       "  Timestamp('2017-07-17 00:00:00'): 0.26977237654320985,\n",
       "  Timestamp('2017-07-24 00:00:00'): 0.21449704142011833,\n",
       "  Timestamp('2017-07-31 00:00:00'): 0.13425925925925924,\n",
       "  Timestamp('2017-08-07 00:00:00'): 0.0632,\n",
       "  Timestamp('2017-08-14 00:00:00'): 0.07470414201183434,\n",
       "  Timestamp('2017-08-21 00:00:00'): 0.13579604578563992}}"
      ]
     },
     "execution_count": 165,
     "metadata": {},
     "output_type": "execute_result"
    }
   ],
   "source": [
    "test.to_dict()"
   ]
  },
  {
   "cell_type": "code",
   "execution_count": null,
   "metadata": {
    "Collapsed": "false"
   },
   "outputs": [],
   "source": []
  }
 ],
 "metadata": {
  "kernelspec": {
   "display_name": "Python 3",
   "language": "python",
   "name": "python3"
  },
  "language_info": {
   "codemirror_mode": {
    "name": "ipython",
    "version": 3
   },
   "file_extension": ".py",
   "mimetype": "text/x-python",
   "name": "python",
   "nbconvert_exporter": "python",
   "pygments_lexer": "ipython3",
   "version": "3.7.3"
  }
 },
 "nbformat": 4,
 "nbformat_minor": 4
}
